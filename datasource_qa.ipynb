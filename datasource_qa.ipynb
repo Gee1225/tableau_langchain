{
 "cells": [
  {
   "cell_type": "markdown",
   "metadata": {},
   "source": [
    "# Tableau Agent\n",
    "\n",
    "This is a sample implementation of a Langgraph Agent for Tableau."
   ]
  },
  {
   "cell_type": "code",
   "execution_count": 1,
   "metadata": {},
   "outputs": [],
   "source": [
    "import os\n",
    "from dotenv import load_dotenv\n",
    "from IPython.display import display, Markdown\n",
    "\n",
    "# base langchain library imports\n",
    "from langchain_openai import ChatOpenAI\n",
    "from langgraph.prebuilt import create_react_agent\n",
    "\n",
    "# tableau_langchain imports\n",
    "from community.langchain_community.tools.tableau.datasource_qa import datasource_qa"
   ]
  },
  {
   "cell_type": "code",
   "execution_count": 2,
   "metadata": {},
   "outputs": [],
   "source": [
    "# environment variables available to current process and sub processes\n",
    "load_dotenv()\n",
    "\n",
    "# configure running model for the agent\n",
    "llm = ChatOpenAI(\n",
    "    model=os.environ[\"AGENT_MODEL\"],\n",
    "    api_key=os.environ[\"OPENAI_API_KEY\"],\n",
    "    temperature=0,\n",
    "    verbose=True,\n",
    "    max_tokens=None,\n",
    "    timeout=None,\n",
    "    max_retries=2\n",
    ")\n",
    "\n",
    "# load a tool to query Tableau data sources via the VDS API\n",
    "tools = [ datasource_qa ]\n",
    "\n",
    "# set agent debugging state\n",
    "if os.getenv('DEBUG') == '1':\n",
    "    debugging = True\n",
    "else:\n",
    "    debugging = False\n",
    "\n",
    "# define the agent graph\n",
    "query_agent = create_react_agent(\n",
    "    model=llm,\n",
    "    tools=tools,\n",
    "    debug=debugging\n",
    ")"
   ]
  },
  {
   "cell_type": "code",
   "execution_count": 3,
   "metadata": {},
   "outputs": [
    {
     "data": {
      "text/markdown": [
       "Here are the average discount, total sales, and profits by region, sorted by profit:\n",
       "\n",
       "| Average Discount | Total Sales      | Total Profit     | Region  |\n",
       "|------------------|------------------|------------------|---------|\n",
       "| 0.1089           | 739,813.61       | 110,798.82       | West    |\n",
       "| 0.1434           | 691,828.17       | 94,883.26        | East    |\n",
       "| 0.1473           | 391,721.91       | 46,749.43        | South   |\n",
       "| 0.2410           | 503,170.67       | 39,865.31        | Central |\n",
       "\n",
       "This table provides a clear view of how discounts, sales, and profits vary across different regions."
      ],
      "text/plain": [
       "<IPython.core.display.Markdown object>"
      ]
     },
     "metadata": {},
     "output_type": "display_data"
    }
   ],
   "source": [
    "# question or task sent to the agent\n",
    "message_string = 'show me average discount, total sales and profits by region sorted by profit'\n",
    "\n",
    "# Run the agent\n",
    "messages = query_agent.invoke({\"messages\": [(\"human\", message_string)]})\n",
    "display(Markdown(messages['messages'][3].content))"
   ]
  }
 ],
 "metadata": {
  "kernelspec": {
   "display_name": "tableau_langchain",
   "language": "python",
   "name": "python3"
  },
  "language_info": {
   "codemirror_mode": {
    "name": "ipython",
    "version": 3
   },
   "file_extension": ".py",
   "mimetype": "text/x-python",
   "name": "python",
   "nbconvert_exporter": "python",
   "pygments_lexer": "ipython3",
   "version": "3.12.2"
  }
 },
 "nbformat": 4,
 "nbformat_minor": 2
}
