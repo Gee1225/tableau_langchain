{
 "cells": [
  {
   "cell_type": "markdown",
   "id": "8504b13a",
   "metadata": {},
   "source": [
    "# Tableau & Salesforce\n",
    "\n",
    "//TODO Fetch Tableau data and output in Salesforce\n",
    "// https://python.langchain.com/docs/integrations/tools/salesforce/"
   ]
  }
 ],
 "metadata": {
  "language_info": {
   "name": "python"
  }
 },
 "nbformat": 4,
 "nbformat_minor": 5
}
