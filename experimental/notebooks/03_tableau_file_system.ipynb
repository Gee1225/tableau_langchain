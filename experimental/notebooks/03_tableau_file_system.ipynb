{
 "cells": [
  {
   "cell_type": "markdown",
   "id": "2cf8b5ff",
   "metadata": {},
   "source": [
    "# Tableau & File System\n",
    "\n",
    "//TODO Fetch Tableau data and output as a csv\n",
    "// https://python.langchain.com/docs/integrations/tools/filesystem/"
   ]
  }
 ],
 "metadata": {
  "language_info": {
   "name": "python"
  }
 },
 "nbformat": 4,
 "nbformat_minor": 5
}
