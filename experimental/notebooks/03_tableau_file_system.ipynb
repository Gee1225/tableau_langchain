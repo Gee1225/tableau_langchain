{
 "cells": [
  {
   "cell_type": "markdown",
   "id": "2cf8b5ff",
   "metadata": {},
   "source": [
    "# Tableau and the File System\n",
    "\n",
    "The Langchain community provides out of the box tools that can make the Superstore Agent more powerful. Now that this agent is able to query Tableau data sources, we can give it tools to interact with the file system so it accomplish the following:\n",
    "\n",
    "1. Write data outputs to the file system\n",
    "2. Write insights to the file system\n",
    "3. List outputs\n",
    "4. Read outputs back to you\n",
    "   \n",
    "This is possible thanks to the [filesystem toolkit](https://python.langchain.com/docs/integrations/tools/filesystem/).\n",
    "\n",
    "![Tableau dashboards inside bubbles](./assets/embed_samples.png)\n",
    "\n",
    "Start by importing the necessary packages:"
   ]
  },
  {
   "cell_type": "code",
   "execution_count": 2,
   "id": "1bcebde6",
   "metadata": {},
   "outputs": [],
   "source": [
    "import os\n",
    "\n",
    "from langchain_community.agent_toolkits import FileManagementToolkit"
   ]
  },
  {
   "cell_type": "markdown",
   "id": "cfbb724c",
   "metadata": {},
   "source": [
    "## Initialize the File System Toolkit\n",
    "\n",
    "The next step is to create a temporary working directory and initialize the File System toolkit. That way we can get then tools we need for this exercise such as `read_tool`, `write_tool` and `list_tool`.\n",
    "\n",
    "When combined with data from Tableau the Superstore Agent will be capable of several interesting scenarios."
   ]
  },
  {
   "cell_type": "code",
   "execution_count": 3,
   "id": "a274e5f4",
   "metadata": {},
   "outputs": [],
   "source": [
    "# Use \"temp\" folder in the current Jupyter Notebook directory\n",
    "temp_dir = \"temp\"\n",
    "\n",
    "# Create the temp directory if it doesn't exist\n",
    "if not os.path.exists(temp_dir):\n",
    "    os.makedirs(temp_dir)\n",
    "\n",
    "#  initialize the desired toolkit\n",
    "toolkit = FileManagementToolkit(\n",
    "    root_dir=temp_dir,\n",
    "    selected_tools=[\"read_file\", \"write_file\", \"list_directory\"]\n",
    ")\n",
    "\n",
    "# store all of the tools in the toolkit as 'tools'\n",
    "file_tools = toolkit.get_tools()\n",
    "\n",
    "# unpack the tools we will use in the exercise\n",
    "read_tool, write_tool, list_tool, *_ = file_tools"
   ]
  },
  {
   "cell_type": "markdown",
   "id": "c9ab23a1",
   "metadata": {},
   "source": [
    "## Testing the Filesystem Toolkit\n",
    "\n",
    "To get acquainted with these new tools, let's \"invoke\" them individually without an agent to inspect their output.\n",
    "\n",
    "Let's first start with writing a new file, you can inspect the physical output yourself inside of the `experimental/notebooks/temp` folder:"
   ]
  },
  {
   "cell_type": "code",
   "execution_count": 41,
   "id": "cc37f9f9",
   "metadata": {},
   "outputs": [
    {
     "data": {
      "text/plain": [
       "'File written successfully to hello_superstore.txt.'"
      ]
     },
     "execution_count": 41,
     "metadata": {},
     "output_type": "execute_result"
    }
   ],
   "source": [
    "# Create the file before writing to it\n",
    "file_path = os.path.join(temp_dir, \"example.txt\")\n",
    "with open(file_path, \"w\") as f:\n",
    "    pass  # Create an empty file\n",
    "\n",
    "write_tool.invoke({\"file_path\": \"hello_superstore.txt\", \"text\": \"Hello Superstore!\"})"
   ]
  },
  {
   "cell_type": "markdown",
   "id": "86ca8ed6",
   "metadata": {},
   "source": [
    "Now list the files inside of the `experimental/notebooks/temp` folder with the `list_tool`:"
   ]
  },
  {
   "cell_type": "code",
   "execution_count": 43,
   "id": "2907e18b",
   "metadata": {},
   "outputs": [
    {
     "name": "stdout",
     "output_type": "stream",
     "text": [
      "\n",
      "Formatted Markdown List Output:\n",
      "* .gitignore\n",
      "* .gitkeep\n",
      "* hello_superstore.txt\n"
     ]
    }
   ],
   "source": [
    "# List files in the working directory using `list_tool`\n",
    "files = list_tool.invoke({})\n",
    "\n",
    "# Split the raw output into a list of filenames, removing empty entries\n",
    "file_list = [name for name in files.strip().split('\\n') if name]\n",
    "\n",
    "# Format the list into Markdown list items\n",
    "markdown_list_items = []\n",
    "if file_list:\n",
    "    for file_name in sorted(file_list): # Sort alphabetically for consistency\n",
    "        markdown_list_items.append(f\"* {file_name}\") # Prepend Markdown list marker '* '\n",
    "        # You could use \"- \" instead: markdown_list_items.append(f\"- {file_name}\")\n",
    "else:\n",
    "    markdown_list_items.append(\"* (Directory is empty)\") # Indicate if empty\n",
    "\n",
    "# Join the Markdown list items back into a single string\n",
    "markdown_output = \"\\n\".join(markdown_list_items)\n",
    "\n",
    "# Print the final Markdown formatted string\n",
    "print(\"\\nFormatted Markdown List Output:\")\n",
    "print(markdown_output)"
   ]
  },
  {
   "cell_type": "markdown",
   "id": "10331353",
   "metadata": {},
   "source": [
    "NOTE: `.gitkeep` & `.gitignore` were already present inside the \"temp\" folder to make it a temporary placeholder\n",
    "\n",
    "Lets inspect the contents of the `hello_superstore.txt` file with the `read_tool`:"
   ]
  },
  {
   "cell_type": "code",
   "execution_count": 44,
   "id": "ded383fd",
   "metadata": {},
   "outputs": [
    {
     "name": "stdout",
     "output_type": "stream",
     "text": [
      "\n",
      "--- Successfully Read File Content ---\n",
      "Hello Superstore!\n",
      "--- End of File Content ---\n"
     ]
    }
   ],
   "source": [
    "# Invoke the read_tool, providing the relative path within the root_dir\n",
    "file_content = read_tool.invoke({\"file_path\": \"hello_superstore.txt\"})\n",
    "\n",
    "# The result is the content of the file as a string\n",
    "print(\"\\n--- Successfully Read File Content ---\")\n",
    "print(file_content)\n",
    "print(\"--- End of File Content ---\")"
   ]
  },
  {
   "cell_type": "markdown",
   "id": "55bf8344",
   "metadata": {},
   "source": [
    "## Agent Superstore becomes a Writer!\n",
    "\n",
    "Now that we are familiar with these new tools, let's equip our agent so it can use them in combination with the Tableau Data Q&A tool we learned about in the [previous lession](./02_tableau_datasource_qa.ipynb). That way the agent can read and write files using factual information from Superstore's operations.\n",
    "\n",
    "Agents can be relatively powerless without data since it allows them make decisions and produce useful outputs. Otherwise, we would be stuck having agent who write jokes or poems but this doesn't help Superstore be a more efficient company at all.\n",
    "\n",
    "### Setup the Data Source Q&A Tool\n",
    "\n",
    "Import dependencies and environment variables used by the agent and the Data Source Q&A tool:"
   ]
  },
  {
   "cell_type": "code",
   "execution_count": 5,
   "id": "889b41c7",
   "metadata": {},
   "outputs": [],
   "source": [
    "# to access environment variables\n",
    "import os\n",
    "from dotenv import load_dotenv\n",
    "\n",
    "# for displaying pretty results in the notebook\n",
    "from IPython.display import display, Markdown\n",
    "\n",
    "# Langgraph packages\n",
    "from langchain_openai import ChatOpenAI\n",
    "from langgraph.prebuilt import create_react_agent\n",
    "from langchain_core.messages import HumanMessage # This will help with the markdown section\n",
    "\n",
    "# langchain_tableau packages\n",
    "from langchain_tableau.tools.simple_datasource_qa import initialize_simple_datasource_qa\n",
    "\n",
    "\n",
    "# loads environment variables into Python script\n",
    "load_dotenv()\n",
    "\n",
    "# initialize variables with these secure values\n",
    "tableau_server = os.getenv('TABLEAU_DOMAIN')\n",
    "tableau_site = os.getenv('TABLEAU_SITE')\n",
    "tableau_jwt_client_id = os.getenv('TABLEAU_JWT_CLIENT_ID')\n",
    "tableau_jwt_secret_id = os.getenv('TABLEAU_JWT_SECRET_ID')\n",
    "tableau_jwt_secret = os.getenv('TABLEAU_JWT_SECRET')\n",
    "tableau_api_version = os.getenv('TABLEAU_API_VERSION')\n",
    "tableau_user = os.getenv('TABLEAU_USER')\n",
    "datasource_luid = os.getenv('DATASOURCE_LUID')\n",
    "tooling_model = os.getenv('TOOLING_MODEL')\n",
    "\n",
    "# Initalize the tool for querying Tableau Datasources through VDS\n",
    "analyze_datasource = initialize_simple_datasource_qa(\n",
    "    domain=tableau_server,\n",
    "    site=tableau_site,\n",
    "    jwt_client_id=tableau_jwt_client_id,\n",
    "    jwt_secret_id=tableau_jwt_secret_id,\n",
    "    jwt_secret=tableau_jwt_secret,\n",
    "    tableau_api_version=tableau_api_version,\n",
    "    tableau_user=tableau_user,\n",
    "    datasource_luid=datasource_luid,\n",
    "    tooling_llm_model=tooling_model\n",
    ")\n",
    "\n",
    "# add the data query tool and the file system tools to a List to give to the agent\n",
    "tools = [ analyze_datasource, read_tool, write_tool, list_tool ]"
   ]
  },
  {
   "cell_type": "markdown",
   "id": "fe5db93a",
   "metadata": {},
   "source": [
    "### Run & Format our Chats\n",
    "\n",
    "We will likewise add the running function we've been using so far to improve readability and handle any errors.\n",
    "\n",
    "You may be trying this out on your own environment, so some good error handling never hurt anybody:"
   ]
  },
  {
   "cell_type": "code",
   "execution_count": 6,
   "id": "ce834e43",
   "metadata": {},
   "outputs": [],
   "source": [
    "def run_agent_and_display_markdown(agent, user_prompt):\n",
    "    \"\"\"Invokes the agent and displays the final answer using Markdown.\"\"\"\n",
    "    print(f\"Running agent with prompt: '{user_prompt}'\")\n",
    "    messages = {\"messages\": [HumanMessage(content=user_prompt)]} # Use HumanMessage directly\n",
    "\n",
    "    try:\n",
    "        # Invoke the agent to get the final result\n",
    "        # The result dictionary structure might vary slightly depending on the LangGraph version\n",
    "        # but typically contains 'messages' with the conversation history.\n",
    "        result = agent.invoke(messages)\n",
    "\n",
    "        # Extract the final message (usually the last AIMessage)\n",
    "        if result and 'messages' in result and result['messages']:\n",
    "            final_message = result['messages'][-1]\n",
    "            # Check if it's an AI message and has content\n",
    "            if hasattr(final_message, 'content'):\n",
    "                final_answer = final_message.content\n",
    "                print(\"\\n--- Agent Final Answer ---\")\n",
    "                display(Markdown(final_answer))\n",
    "                print(\"--------------------------\\n\")\n",
    "            else:\n",
    "                print(\"Could not extract content from the final message.\")\n",
    "                print(\"Final message:\", final_message)\n",
    "        else:\n",
    "            print(\"Agent did not return the expected result structure.\")\n",
    "            print(\"Result:\", result)\n",
    "\n",
    "    except Exception as e:\n",
    "        print(f\"An error occurred while running the agent: {e}\")\n",
    "        # Potentially display the error or log it\n",
    "        display(Markdown(f\"**Error:**\\n```\\n{e}\\n```\"))"
   ]
  },
  {
   "cell_type": "markdown",
   "id": "7b789f29",
   "metadata": {},
   "source": [
    "### Setup the Superstore Agent\n",
    "\n",
    "We use the same prompt as the [previous lession](./02_tableau_datasource_qa.ipynb) but we include new instructions to help the Agent understand its new tools and how they open new use cases:"
   ]
  },
  {
   "cell_type": "code",
   "execution_count": 7,
   "id": "a96a69d3",
   "metadata": {},
   "outputs": [],
   "source": [
    "# Agent Identity Definition\n",
    "identity = \"\"\"\n",
    "You are **Agent Superstore**, the veteran AI analyst who has spent years exploring the aisles of the legendary Superstore dataset.\n",
    "A dataset many Tableau users know and love! \n",
    "You live and breathe Superstore data: sales, profits, regions, categories, customer segments, shipping modes, you name it.\n",
    "\n",
    "Your special mission **today at Tableau Conference 2025** is to help attendees experience the power of Tableau for Langchain Agents. \n",
    "You'll be their guide, using this new tool to query the Superstore dataset directly and uncover insights in real-time.\n",
    "\n",
    "**When you first introduce yourself:**\n",
    "1.  Greet the attendees and welcome them to the Tableau Conference 2025 hands-on session.\n",
    "2.  Introduce yourself as Agent Superstore, the AI expert on the classic Superstore dataset.\n",
    "3.  Briefly explain your purpose: to demonstrate Tableau analytics via agents\n",
    "\"\"\"\n",
    "\n",
    "# Main System Prompt\n",
    "system_prompt = f\"\"\"**Agent Identity:**\n",
    "{identity}\n",
    "\n",
    "**Core Instructions:**\n",
    "\n",
    "You are an AI Analyst specifically designed to generate data-driven insights from datasets using the tools provided. \n",
    "Your goal is to provide answers, guidance, and analysis based on the data accessed via your tools. \n",
    "Remember your audience: Tableau users at a conference session, likely familiar with Superstore aka the best dataset ever created.\n",
    "\n",
    "**Tool Usage Strategy:**\n",
    "\n",
    "You have access to the following tool:\n",
    "\n",
    "1.  **`tableau_query_tool` (Data Source Query):** This is your primary tool for interacting with data.\n",
    "    * **Prioritize this tool** for nearly all user requests asking for specific data points, aggregations, comparisons, trends, or filtered information from datasets.\n",
    "    * Use it to find specific values (e.g., sales for 'Technology' in 'West' region), calculate aggregates (e.g., `SUM(Sales)`, `AVG(Profit Ratio)`), filter data (e.g., orders in 2023), group data (e.g., sales `BY Category`), and find rankings (e.g., top 5 products by quantity).\n",
    "    * Be precise in formulating the queries based on the user's request.\n",
    "\n",
    "**Response Guidelines:**\n",
    "\n",
    "* **Grounding:** Base ALL your answers strictly on the information retrieved from your available tools.\n",
    "* **Clarity:** Always answer the user's core question directly first.\n",
    "* **Source Attribution:** Clearly state that the information comes from the **dataset** accessed via the Tableau tool (e.g., \"According to the data...\", \"Querying the datasource reveals...\").\n",
    "* **Structure:** Present findings clearly. Use lists or summaries for complex results like rankings or multiple data points. Think like a mini-report derived *directly* from the data query.\n",
    "* **Tone:** Maintain a helpful, and knowledgeable, befitting your Tableau Superstore expert persona.\n",
    "\n",
    "**Crucial Restrictions:**\n",
    "* **DO NOT HALLUCINATE:** Never invent data, categories, regions, or metrics that are not present in the output of your tools. If the tool doesn't provide the answer, state that the information isn't available in the queried data.\n",
    "\"\"\"\n",
    "\n",
    "# initialize a Large Language Model to be the \"brains\" of the Agent\n",
    "model = ChatOpenAI(model='gpt-4o-mini', temperature=0)\n",
    "\n",
    "superstore_agent = create_react_agent(model=model, tools=tools, prompt=system_prompt)"
   ]
  },
  {
   "cell_type": "markdown",
   "id": "bfdb7280",
   "metadata": {},
   "source": [
    "## Let's Rock & Roll!\n",
    "\n"
   ]
  }
 ],
 "metadata": {
  "kernelspec": {
   "display_name": "tableau_langchain",
   "language": "python",
   "name": "python3"
  },
  "language_info": {
   "codemirror_mode": {
    "name": "ipython",
    "version": 3
   },
   "file_extension": ".py",
   "mimetype": "text/x-python",
   "name": "python",
   "nbconvert_exporter": "python",
   "pygments_lexer": "ipython3",
   "version": "3.12.2"
  }
 },
 "nbformat": 4,
 "nbformat_minor": 5
}
