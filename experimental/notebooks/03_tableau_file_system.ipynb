{
 "cells": [
  {
   "cell_type": "markdown",
   "id": "2cf8b5ff",
   "metadata": {},
   "source": [
    "# Tableau and the File System\n",
    "\n",
    "The Langchain community provides out of the box tools that can make the Superstore Agent more powerful. Now that this agent is able to query Tableau data sources, we can give it tools to interact with the file system so it accomplish the following:\n",
    "\n",
    "1. Write data outputs to the file system\n",
    "2. Write insights to the file system\n",
    "3. List outputs\n",
    "4. Read outputs back to you\n",
    "   \n",
    "This is possible thanks to the [filesystem toolkit](https://python.langchain.com/docs/integrations/tools/filesystem/).\n",
    "\n",
    "![Tableau dashboards inside bubbles](./assets/embed_samples.png)\n",
    "\n",
    "Start by importing the necessary packages:"
   ]
  },
  {
   "cell_type": "code",
   "execution_count": 28,
   "id": "1bcebde6",
   "metadata": {},
   "outputs": [],
   "source": [
    "import os\n",
    "\n",
    "from langchain_community.agent_toolkits import FileManagementToolkit"
   ]
  },
  {
   "cell_type": "markdown",
   "id": "cfbb724c",
   "metadata": {},
   "source": [
    "# Initialize the File System Toolkit\n",
    "\n",
    "The next step is to create a temporary working directory and initialize the File System toolkit. That way we can get then tools we need for this exercise such as `read_tool`, `write_tool` and `list_tool`.\n",
    "\n",
    "When combined with data from Tableau the Superstore Agent will be capable of several interesting scenarios."
   ]
  },
  {
   "cell_type": "code",
   "execution_count": 36,
   "id": "a274e5f4",
   "metadata": {},
   "outputs": [],
   "source": [
    "# Use \"temp\" folder in the current Jupyter Notebook directory\n",
    "temp_dir = \"temp\"\n",
    "\n",
    "# Create the temp directory if it doesn't exist\n",
    "if not os.path.exists(temp_dir):\n",
    "    os.makedirs(temp_dir)\n",
    "\n",
    "#  initialize the desired toolkit\n",
    "toolkit = FileManagementToolkit(\n",
    "    root_dir=temp_dir,\n",
    "    selected_tools=[\"read_file\", \"write_file\", \"list_directory\"]\n",
    ")\n",
    "\n",
    "# store all of the tools in the toolkit as 'tools'\n",
    "tools = toolkit.get_tools()\n",
    "\n",
    "# unpack the tools we will use in the exercise\n",
    "read_tool, write_tool, list_tool, *_ = tools"
   ]
  },
  {
   "cell_type": "markdown",
   "id": "c9ab23a1",
   "metadata": {},
   "source": [
    "# Testing the Filesystem Toolkit\n",
    "\n",
    "To get acquainted with these new tools, let's \"invoke\" them individually without an agent to inspect their output.\n",
    "\n",
    "Let's first start with writing a new file, you can inspect the physical output yourself inside of the `experimental/notebooks/temp` folder:"
   ]
  },
  {
   "cell_type": "code",
   "execution_count": 41,
   "id": "cc37f9f9",
   "metadata": {},
   "outputs": [
    {
     "data": {
      "text/plain": [
       "'File written successfully to hello_superstore.txt.'"
      ]
     },
     "execution_count": 41,
     "metadata": {},
     "output_type": "execute_result"
    }
   ],
   "source": [
    "# Create the file before writing to it\n",
    "file_path = os.path.join(temp_dir, \"example.txt\")\n",
    "with open(file_path, \"w\") as f:\n",
    "    pass  # Create an empty file\n",
    "\n",
    "write_tool.invoke({\"file_path\": \"hello_superstore.txt\", \"text\": \"Hello Superstore!\"})"
   ]
  },
  {
   "cell_type": "markdown",
   "id": "86ca8ed6",
   "metadata": {},
   "source": [
    "Now list the files inside of the `experimental/notebooks/temp` folder with the `list_tool`:"
   ]
  },
  {
   "cell_type": "code",
   "execution_count": 43,
   "id": "2907e18b",
   "metadata": {},
   "outputs": [
    {
     "name": "stdout",
     "output_type": "stream",
     "text": [
      "\n",
      "Formatted Markdown List Output:\n",
      "* .gitignore\n",
      "* .gitkeep\n",
      "* hello_superstore.txt\n"
     ]
    }
   ],
   "source": [
    "# List files in the working directory using `list_tool`\n",
    "files = list_tool.invoke({})\n",
    "\n",
    "# Split the raw output into a list of filenames, removing empty entries\n",
    "file_list = [name for name in files.strip().split('\\n') if name]\n",
    "\n",
    "# Format the list into Markdown list items\n",
    "markdown_list_items = []\n",
    "if file_list:\n",
    "    for file_name in sorted(file_list): # Sort alphabetically for consistency\n",
    "        markdown_list_items.append(f\"* {file_name}\") # Prepend Markdown list marker '* '\n",
    "        # You could use \"- \" instead: markdown_list_items.append(f\"- {file_name}\")\n",
    "else:\n",
    "    markdown_list_items.append(\"* (Directory is empty)\") # Indicate if empty\n",
    "\n",
    "# Join the Markdown list items back into a single string\n",
    "markdown_output = \"\\n\".join(markdown_list_items)\n",
    "\n",
    "# Print the final Markdown formatted string\n",
    "print(\"\\nFormatted Markdown List Output:\")\n",
    "print(markdown_output)"
   ]
  },
  {
   "cell_type": "markdown",
   "id": "10331353",
   "metadata": {},
   "source": [
    "NOTE: `.gitkeep` & `.gitignore` were already present inside the \"temp\" folder to make it a temporary placeholder\n",
    "\n",
    "Lets inspect the contents of the `hello_superstore.txt` file with the `read_tool`:"
   ]
  },
  {
   "cell_type": "code",
   "execution_count": 44,
   "id": "ded383fd",
   "metadata": {},
   "outputs": [
    {
     "name": "stdout",
     "output_type": "stream",
     "text": [
      "\n",
      "--- Successfully Read File Content ---\n",
      "Hello Superstore!\n",
      "--- End of File Content ---\n"
     ]
    }
   ],
   "source": [
    "# Invoke the read_tool, providing the relative path within the root_dir\n",
    "file_content = read_tool.invoke({\"file_path\": \"hello_superstore.txt\"})\n",
    "\n",
    "# The result is the content of the file as a string\n",
    "print(\"\\n--- Successfully Read File Content ---\")\n",
    "print(file_content)\n",
    "print(\"--- End of File Content ---\")"
   ]
  },
  {
   "cell_type": "code",
   "execution_count": null,
   "id": "91abcaef",
   "metadata": {},
   "outputs": [],
   "source": []
  }
 ],
 "metadata": {
  "kernelspec": {
   "display_name": "tableau_langchain",
   "language": "python",
   "name": "python3"
  },
  "language_info": {
   "codemirror_mode": {
    "name": "ipython",
    "version": 3
   },
   "file_extension": ".py",
   "mimetype": "text/x-python",
   "name": "python",
   "nbconvert_exporter": "python",
   "pygments_lexer": "ipython3",
   "version": "3.12.2"
  }
 },
 "nbformat": 4,
 "nbformat_minor": 5
}
