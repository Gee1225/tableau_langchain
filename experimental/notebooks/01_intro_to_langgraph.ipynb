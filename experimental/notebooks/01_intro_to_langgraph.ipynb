{
 "cells": [
  {
   "cell_type": "markdown",
   "id": "8e6fb70c",
   "metadata": {},
   "source": [
    "# Introduction to Langgraph Agents\n",
    "\n",
    "Welcome to `tableau-langchain` where you will learn to augment AI agents with the tools to interact with your Tableau environment to make use of all of the powerful analytics and datasources your team has built.\n",
    "\n",
    "![tableau products](./assets/tableau_products.png)\n",
    "\n",
    "This project was written for the open source  [Langchain](https://www.langchain.com/) and [Langgraph](https://www.langchain.com/langgraph) frameworks in Python. These frameworks are very popular with developers and you may find teams at your organization who are already using them. \n",
    "\n",
    "Before you incorporate analytics into your agent we should first establish foundational knowledge regarding how these agents work. The most basic agent by definition requires a Large Language Model (LLM) like ChatGPT or Anthropic and an agent \"tool\". This means that rather than just interacting with a model directly, you equip this model to perform a defined action for you. The following guide was inspired by this official Langchain article explaining how to use the [pre-built ReAct agent](https://langchain-ai.github.io/langgraph/how-tos/create-react-agent/).\n",
    "\n",
    "This is our starting point into the world of AI agents. \n",
    "\n",
    "Begin by importing the necessary packages:"
   ]
  },
  {
   "cell_type": "code",
   "execution_count": null,
   "id": "5951087e",
   "metadata": {},
   "outputs": [],
   "source": [
    "# Langgraph packages\n",
    "from langchain_openai import ChatOpenAI\n",
    "from langgraph.prebuilt import create_react_agent"
   ]
  }
 ],
 "metadata": {
  "kernelspec": {
   "display_name": "tableau_langchain",
   "language": "python",
   "name": "python3"
  },
  "language_info": {
   "name": "python",
   "version": "3.12.2"
  }
 },
 "nbformat": 4,
 "nbformat_minor": 5
}
