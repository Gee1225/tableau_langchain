{
 "cells": [
  {
   "cell_type": "markdown",
   "id": "2cf8b5ff",
   "metadata": {},
   "source": [
    "# Part 4: Enhancing Our Agent with File System Interaction\n",
    "\n",
    "Welcome to our fourth workbook! We're about to supercharge our \"Superstore\" agent even further by leveraging the fantastic tools provided by the Langchain community.\n",
    "\n",
    "Now that our agent can skillfully query Tableau data sources, let's equip it with the ability to interact with the file system. This will unlock exciting new possibilities, allowing our agent to:\n",
    "\n",
    "1.  **Write data outputs** from its Tableau queries directly to files.\n",
    "2.  **Save the valuable insights** it generates into organized files.\n",
    "3.  **List the files** it has created, providing a clear overview of its work.\n",
    "4.  **Read the content of these files back to you**, making it easy to review and utilize the stored information.\n",
    "\n",
    "All of this is made possible thanks to the powerful [filesystem toolkit](https://python.langchain.com/docs/integrations/tools/filesystem/) available within Langchain.\n",
    "\n",
    "![Tableau dashboards inside bubbles](./assets/embed_samples.png)\n",
    "\n",
    "Let's begin by importing the necessary packages to explore this toolkit and its capabilities:"
   ]
  },
  {
   "cell_type": "code",
   "execution_count": null,
   "id": "1bcebde6",
   "metadata": {},
   "outputs": [],
   "source": [
    "import os\n",
    "\n",
    "# for displaying pretty results in the notebook\n",
    "from IPython.display import display, Markdown\n",
    "\n",
    "from langchain_community.agent_toolkits import FileManagementToolkit"
   ]
  },
  {
   "cell_type": "markdown",
   "id": "cfbb724c",
   "metadata": {},
   "source": [
    "## Setting Up Our File System Toolkit\n",
    "\n",
    "Now, let's get our hands dirty and initialize the File System toolkit. To do this effectively, we'll first create a **temporary working directory**. This will provide a clean and isolated space for our agent to read and write files during this exercise.\n",
    "\n",
    "Once the temporary directory is set up, we'll initialize the File System toolkit. This will provide us with the specific tools we need for interacting with the file system, namely:\n",
    "\n",
    "* `read_tool`: To allow the agent to read the contents of files.\n",
    "* `write_tool`: To enable the agent to write data and insights to files.\n",
    "* `list_tool`: To give the agent the ability to list the files within our working directory.\n",
    "\n",
    "By combining these file system interaction capabilities with our agent's existing Tableau data querying skills, we'll unlock several exciting and practical scenarios for our Superstore Agent. Imagine the possibilities of automatically saving key sales figures, documenting important insights, or even creating reports directly within the file system! Let's get this toolkit ready for action:"
   ]
  },
  {
   "cell_type": "code",
   "execution_count": null,
   "id": "a274e5f4",
   "metadata": {},
   "outputs": [],
   "source": [
    "# Use \"temp\" folder in the current Jupyter Notebook directory\n",
    "temp_dir = \"temp\"\n",
    "\n",
    "# Create the temp directory if it doesn't exist\n",
    "if not os.path.exists(temp_dir):\n",
    "    os.makedirs(temp_dir)\n",
    "\n",
    "#  initialize the desired toolkit\n",
    "toolkit = FileManagementToolkit(\n",
    "    root_dir=temp_dir,\n",
    "    selected_tools=[\"read_file\", \"write_file\", \"list_directory\"]\n",
    ")\n",
    "\n",
    "# store all of the tools in the toolkit as 'tools'\n",
    "file_tools = toolkit.get_tools()\n",
    "\n",
    "# unpack the tools we will use in the exercise\n",
    "read_tool, write_tool, list_tool, *_ = file_tools"
   ]
  },
  {
   "cell_type": "markdown",
   "id": "c9ab23a1",
   "metadata": {},
   "source": [
    "## Getting Familiar with Our New File System Tools\n",
    "\n",
    "Before we integrate these file system tools into our Superstore agent, let's take them for a spin individually to understand how they work. This will give us a clearer picture of their inputs and outputs.\n",
    "\n",
    "We'll start by using the `write_tool` to create a new file. After running the code below, you can actually navigate to the `experimental/notebooks/temp` folder on your file system and inspect the file that was created. This will allow you to see firsthand how the `write_tool` saves information. Let's give it a try!"
   ]
  },
  {
   "cell_type": "code",
   "execution_count": null,
   "id": "cc37f9f9",
   "metadata": {},
   "outputs": [],
   "source": [
    "# Create the file before writing to it\n",
    "file_path = os.path.join(temp_dir, \"reporting_guidelines.md\")\n",
    "with open(file_path, \"w\") as f:\n",
    "    pass  # Create an empty file\n",
    "\n",
    "write_tool.invoke({\n",
    "    \"file_path\": \"reporting_guidelines.md\", \n",
    "    \"text\": \"\"\"\n",
    "# Superstore Reporting Guidelines\n",
    "\n",
    "This document outlines the mandatory structure and Markdown best practices for generating reports. \n",
    "All reports must be submitted in Markdown format (`.md`) and adhere to the following sections.\n",
    "\n",
    "## Sections\n",
    "    \n",
    "**Title** (concise and professional), \n",
    "**Introduction** (setting context), \n",
    "**Abstract** (briefly summarizing key insights), \n",
    "**Table of Contents** (auto-generated if possible, or manually listed), \n",
    "**Contents** (the main body, well-structured using Markdown), \n",
    "and **Conclusion** (summarizing findings and potential next steps).\n",
    "\n",
    "## Format\n",
    "\n",
    "Use Markdown effectively for clarity: use appropriate heading levels (`#`, `##`, `###`), \n",
    "lists (`*`, `-`, `1.`), emphasis (`**bold**`, `*italic*`), code blocks (```), and links (`[text](url)`) \n",
    "to create readable and well-organized reports.\n",
    "\n",
    "## Style\n",
    "\n",
    "The report must be professional and highlight how these findings will impact Superstore's business.\n",
    "\n",
    "###### You must also include a few easter eggs about Tableau Conference 2025 hidden throughout the report.\n",
    "\"\"\"\n",
    "})"
   ]
  },
  {
   "cell_type": "markdown",
   "id": "86ca8ed6",
   "metadata": {},
   "source": [
    "### Listing Files with the `list_tool`\n",
    "\n",
    "Now that we've used the `write_tool` to create a file in our temporary directory, let's see how we can use the `list_tool` to get a directory listing. This tool allows our agent to see what files are present within the specified folder.\n",
    "\n",
    "Run the code cell below to invoke the `list_tool`. It should output a list of the files and directories within our `experimental/notebooks/temp` folder, and you should see the file we just created. This is a handy way for the agent to keep track of the files it has generated. Let's see it in action!"
   ]
  },
  {
   "cell_type": "code",
   "execution_count": null,
   "id": "2907e18b",
   "metadata": {},
   "outputs": [],
   "source": [
    "# List files in the working directory using `list_tool`\n",
    "files = list_tool.invoke({})\n",
    "\n",
    "# Split the raw output into a list of filenames, removing empty entries\n",
    "file_list = [name for name in files.strip().split('\\n') if name]\n",
    "\n",
    "# Format the list into Markdown list items\n",
    "markdown_list_items = []\n",
    "if file_list:\n",
    "    for file_name in sorted(file_list): # Sort alphabetically for consistency\n",
    "        markdown_list_items.append(f\"* {file_name}\") # Prepend Markdown list marker '* '\n",
    "        # You could use \"- \" instead: markdown_list_items.append(f\"- {file_name}\")\n",
    "else:\n",
    "    markdown_list_items.append(\"* (Directory is empty)\") # Indicate if empty\n",
    "\n",
    "# Join the Markdown list items back into a single string\n",
    "markdown_output = \"\\n\".join(markdown_list_items)\n",
    "\n",
    "# Print the final Markdown formatted string\n",
    "print(\"\\nFormatted Markdown List Output:\")\n",
    "print(markdown_output)"
   ]
  },
  {
   "cell_type": "markdown",
   "id": "10331353",
   "metadata": {},
   "source": [
    "### Reading File Contents with the `read_tool`\n",
    "\n",
    "**Important Note:** You might notice some files like `.gitkeep` and `.gitignore` already present in the \"temp\" folder. These are special files used by `git` (a version control system) to manage which files should or shouldn't be tracked. In this case, they're there to ensure that the contents of our temporary folder aren't accidentally committed and uploaded.\n",
    "\n",
    "Now that we've created a file (`hello_superstore.txt`) and listed the contents of the directory, let's use the `read_tool` to actually examine the contents of that file. This tool allows our agent to retrieve the text stored within a file, which can be crucial for processing information or generating further insights.\n",
    "\n",
    "Run the following code cell to invoke the `read_tool` and display the contents of `hello_superstore.txt`. This will show us the text we wrote earlier and demonstrate how the agent can access information stored in files."
   ]
  },
  {
   "cell_type": "code",
   "execution_count": 1,
   "id": "ded383fd",
   "metadata": {},
   "outputs": [
    {
     "ename": "NameError",
     "evalue": "name 'read_tool' is not defined",
     "output_type": "error",
     "traceback": [
      "\u001b[31m---------------------------------------------------------------------------\u001b[39m",
      "\u001b[31mNameError\u001b[39m                                 Traceback (most recent call last)",
      "\u001b[36mCell\u001b[39m\u001b[36m \u001b[39m\u001b[32mIn[1]\u001b[39m\u001b[32m, line 2\u001b[39m\n\u001b[32m      1\u001b[39m \u001b[38;5;66;03m# Invoke the read_tool, providing the relative path within the root_dir\u001b[39;00m\n\u001b[32m----> \u001b[39m\u001b[32m2\u001b[39m file_content = \u001b[43mread_tool\u001b[49m.invoke({\u001b[33m\"\u001b[39m\u001b[33mfile_path\u001b[39m\u001b[33m\"\u001b[39m: \u001b[33m\"\u001b[39m\u001b[33mreporting_guidelines.md\u001b[39m\u001b[33m\"\u001b[39m})\n\u001b[32m      4\u001b[39m \u001b[38;5;66;03m# The result is the content of the file as a string\u001b[39;00m\n\u001b[32m      5\u001b[39m \u001b[38;5;28mprint\u001b[39m(\u001b[33m\"\u001b[39m\u001b[38;5;130;01m\\n\u001b[39;00m\u001b[33m--- Successfully Read File Content ---\u001b[39m\u001b[33m\"\u001b[39m)\n",
      "\u001b[31mNameError\u001b[39m: name 'read_tool' is not defined"
     ]
    }
   ],
   "source": [
    "# Invoke the read_tool, providing the relative path within the root_dir\n",
    "file_content = read_tool.invoke({\"file_path\": \"reporting_guidelines.md\"})\n",
    "\n",
    "# The result is the content of the file as a string\n",
    "print(\"\\n--- Successfully Read File Content ---\")\n",
    "display(Markdown(file_content))\n",
    "print(\"--- End of File Content ---\")"
   ]
  },
  {
   "cell_type": "markdown",
   "id": "55bf8344",
   "metadata": {},
   "source": [
    "![up_down_area chart](./assets/vizart/up_down_area.png)\n",
    "\n",
    "## Agent Superstore becomes a Writer!\n",
    "\n",
    "Now that we are familiar with these new tools, let's equip our agent so it can use them in combination with the Tableau Data Q&A tool we learned about in the [previous lession](./02_tableau_datasource_qa.ipynb). That way the agent can read and write files using factual information from Superstore's operations.\n",
    "\n",
    "Agents can be relatively powerless without data since it allows them make decisions and produce useful outputs. Otherwise, we would be stuck having agent who write jokes or poems but this doesn't help Superstore be a more efficient company at all.\n",
    "\n",
    "### Setup the Data Source Q&A Tool\n",
    "\n",
    "Let's start by importing the necessary dependencies and environment variables that our agent and the Data Source Q&A tool will rely on:"
   ]
  },
  {
   "cell_type": "code",
   "execution_count": null,
   "id": "889b41c7",
   "metadata": {},
   "outputs": [],
   "source": [
    "# to access environment variables\n",
    "import os\n",
    "from dotenv import load_dotenv\n",
    "\n",
    "# Langgraph packages\n",
    "from langchain_openai import ChatOpenAI\n",
    "from langgraph.prebuilt import create_react_agent\n",
    "from langchain_core.messages import HumanMessage # This will help with the markdown section\n",
    "\n",
    "# langchain_tableau packages\n",
    "from langchain_tableau.tools.simple_datasource_qa import initialize_simple_datasource_qa\n",
    "\n",
    "\n",
    "# loads environment variables into Python script\n",
    "load_dotenv()\n",
    "\n",
    "# initialize variables with these secure values\n",
    "tableau_server = os.getenv('TABLEAU_DOMAIN')\n",
    "tableau_site = os.getenv('TABLEAU_SITE')\n",
    "tableau_jwt_client_id = os.getenv('TABLEAU_JWT_CLIENT_ID')\n",
    "tableau_jwt_secret_id = os.getenv('TABLEAU_JWT_SECRET_ID')\n",
    "tableau_jwt_secret = os.getenv('TABLEAU_JWT_SECRET')\n",
    "tableau_api_version = os.getenv('TABLEAU_API_VERSION')\n",
    "tableau_user = os.getenv('TABLEAU_USER')\n",
    "datasource_luid = os.getenv('DATASOURCE_LUID')\n",
    "tooling_model = os.getenv('TOOLING_MODEL')\n",
    "\n",
    "# Initalize the tool for querying Tableau Datasources through VDS\n",
    "analyze_datasource = initialize_simple_datasource_qa(\n",
    "    domain=tableau_server,\n",
    "    site=tableau_site,\n",
    "    jwt_client_id=tableau_jwt_client_id,\n",
    "    jwt_secret_id=tableau_jwt_secret_id,\n",
    "    jwt_secret=tableau_jwt_secret,\n",
    "    tableau_api_version=tableau_api_version,\n",
    "    tableau_user=tableau_user,\n",
    "    datasource_luid=datasource_luid,\n",
    "    tooling_llm_model=tooling_model\n",
    ")\n",
    "\n",
    "# add the data query tool and the file system tools to a List to give to the agent\n",
    "tools = [ analyze_datasource, read_tool, write_tool, list_tool ]\n"
   ]
  },
  {
   "cell_type": "markdown",
   "id": "0ed8e0fb",
   "metadata": {},
   "source": [
    "### Setting Up Chat Execution and Formatting\n",
    "\n",
    "We'll also bring in the `run` function we've been using throughout this tutorial. This function helps streamline the execution of our agent's tasks, improves the readability of the output, and includes basic error handling.\n",
    "\n",
    "Since you might be experimenting with this in your own environment, incorporating robust error handling is always a good practice to prevent unexpected issues and provide more informative feedback. Let's include this utility function:"
   ]
  },
  {
   "cell_type": "code",
   "execution_count": null,
   "id": "569ff891",
   "metadata": {},
   "outputs": [],
   "source": [
    "def run_agent_and_display_markdown(agent, user_prompt):\n",
    "    \"\"\"Invokes the agent and displays the final answer using Markdown.\"\"\"\n",
    "    print(f\"Running agent with prompt: '{user_prompt}'\")\n",
    "    messages = {\"messages\": [HumanMessage(content=user_prompt)]} # Use HumanMessage directly\n",
    "\n",
    "    try:\n",
    "        # Invoke the agent to get the final result\n",
    "        # The result dictionary structure might vary slightly depending on the LangGraph version\n",
    "        # but typically contains 'messages' with the conversation history.\n",
    "        result = agent.invoke(messages)\n",
    "\n",
    "        # Extract the final message (usually the last AIMessage)\n",
    "        if result and 'messages' in result and result['messages']:\n",
    "            final_message = result['messages'][-1]\n",
    "            # Check if it's an AI message and has content\n",
    "            if hasattr(final_message, 'content'):\n",
    "                final_answer = final_message.content\n",
    "                print(\"\\n--- Agent Final Answer ---\")\n",
    "                display(Markdown(final_answer))\n",
    "                print(\"--------------------------\\n\")\n",
    "            else:\n",
    "                print(\"Could not extract content from the final message.\")\n",
    "                print(\"Final message:\", final_message)\n",
    "        else:\n",
    "            print(\"Agent did not return the expected result structure.\")\n",
    "            print(\"Result:\", result)\n",
    "\n",
    "    except Exception as e:\n",
    "        print(f\"An error occurred while running the agent: {e}\")\n",
    "        # Potentially display the error or log it\n",
    "        display(Markdown(f\"**Error:**\\n```\\n{e}\\n```\"))"
   ]
  },
  {
   "cell_type": "markdown",
   "id": "7b789f29",
   "metadata": {},
   "source": [
    "### Configuring Our Enhanced Superstore Agent\n",
    "\n",
    "We're going to use a similar system prompt as the one we crafted in the [previous lesson](./03_tableau_datasource_qa.ipynb) for our Superstore agent. However, we'll be adding new instructions to this prompt to inform the agent about its newly acquired file system tools and to highlight the exciting new use cases these tools enable.\n",
    "\n",
    "By updating the system prompt, we're guiding the agent on how and when to utilize its data querying capabilities in conjunction with its ability to read, write, and list files. This will allow it to perform more complex and integrated tasks. Let's take a look at the updated system prompt:"
   ]
  },
  {
   "cell_type": "code",
   "execution_count": null,
   "id": "a96a69d3",
   "metadata": {},
   "outputs": [],
   "source": [
    "# Agent Identity Definition\n",
    "identity = \"\"\"\n",
    "You are **Agent Superstore**, the veteran AI analyst who has spent years exploring the aisles of the legendary Superstore dataset.\n",
    "A dataset many Tableau users know and love! \n",
    "You live and breathe Superstore data: sales, profits, regions, categories, customer segments, shipping modes, you name it.\n",
    "\n",
    "Your special mission **today at Tableau Conference 2025** is to help attendees experience the power of Tableau for Langchain Agents. \n",
    "You'll be their guide, using this new tool to query the Superstore dataset directly and uncover insights in real-time.\n",
    "\n",
    "**When you first introduce yourself:**\n",
    "1.  Greet the attendees and welcome them to the Tableau Conference 2025 hands-on session.\n",
    "2.  Introduce yourself as Agent Superstore, the AI expert on the classic Superstore dataset.\n",
    "3.  Briefly explain your purpose: to demonstrate Tableau analytics via agents\n",
    "\"\"\"\n",
    "\n",
    "# Main System Prompt\n",
    "system_prompt = f\"\"\"**Agent Identity:**\n",
    "{identity}\n",
    "\n",
    "**Core Instructions:**\n",
    "\n",
    "You are an AI Analyst specifically designed to generate data-driven insights from datasets using the tools provided. \n",
    "Your goal is to provide answers, guidance, and analysis based on the data accessed via your tools. \n",
    "Remember your audience: Tableau users at a conference session, likely familiar with Superstore aka the best dataset ever created.\n",
    "\n",
    "**Tool Usage Strategy:**\n",
    "\n",
    "You have access to the following tool:\n",
    "\n",
    "1.  **`tableau_query_tool` (Data Source Query):** This is your primary tool for interacting with data.\n",
    "    * **Prioritize this tool** for nearly all user requests asking for specific data points, aggregations, comparisons, trends, or filtered information from datasets.\n",
    "    * Use it to find specific values (e.g., sales for 'Technology' in 'West' region), calculate aggregates (e.g., `SUM(Sales)`, `AVG(Profit Ratio)`), filter data (e.g., orders in 2023), group data (e.g., sales `BY Category`), and find rankings (e.g., top 5 products by quantity).\n",
    "    * Be precise in formulating the queries based on the user's request.\n",
    "2.  **`file_system_toolkit`:** This toolkit lets you read, write and list files in a temporary folder. This folder contains git related files which you can ignore.\n",
    "\n",
    "**Response Guidelines:**\n",
    "\n",
    "* **Grounding:** Base ALL your answers strictly on the information retrieved from your available tools.\n",
    "* **Clarity:** Always answer the user's core question directly first.\n",
    "* **Source Attribution:** Clearly state that the information comes from the **dataset** accessed via the Tableau tool (e.g., \"According to the data...\", \"Querying the datasource reveals...\").\n",
    "* **Structure:** Present findings clearly. Use lists or summaries for complex results like rankings or multiple data points. Think like a mini-report derived *directly* from the data query.\n",
    "* **Tone:** Maintain a helpful, and knowledgeable, befitting your Tableau Superstore expert persona.\n",
    "\n",
    "**Crucial Restrictions:**\n",
    "* **DO NOT HALLUCINATE:** Never invent data, categories, regions, or metrics that are not present in the output of your tools. If the tool doesn't provide the answer, state that the information isn't available in the queried data.\n",
    "\"\"\"\n",
    "\n",
    "# initialize a Large Language Model to be the \"brains\" of the Agent\n",
    "model = ChatOpenAI(model='gpt-4o-mini', temperature=0)\n",
    "\n",
    "superstore_agent = create_react_agent(model=model, tools=tools, prompt=system_prompt)"
   ]
  },
  {
   "cell_type": "markdown",
   "id": "bfdb7280",
   "metadata": {},
   "source": [
    "## Time to See Our Agent in Action! 🚀\n",
    "\n",
    "Alright, the stage is set! Our Superstore agent is now equipped with the power of data retrieval and file system interaction. Let's see this \"agentic analytics writer\" in action by having it generate a few files based on Tableau data and then read their contents back to us.\n",
    "\n",
    "Just think about the potential this unlocks! With this combination, agents can now:\n",
    "\n",
    "1.  **Export data insights** in natural language format for various stakeholders directly from your Tableau data sources.\n",
    "2.  **Read existing files** on your computer and seamlessly incorporate their content into their analysis.\n",
    "3.  **Analyze data, generate insightful conclusions, and write comprehensive report files** on demand.\n",
    "\n",
    "This is just the beginning! The true value lies in **YOU** and **YOUR DOMAIN KNOWLEDGE**, combined with your **DATA SKILLS**, to tailor these foundational capabilities into highly valuable and efficient workflows for your organization.\n",
    "\n",
    "In this exciting scenario, we'll instruct our agent to perform a series of fact-finding queries against our Superstore data, save the results to individual files, and then read those files to generate a final summary report.\n",
    "\n",
    "### Let's Start with Regional Sales Data!\n",
    "\n",
    "Enough preamble, let's dive right in and get our agent working! We'll begin by asking for some key regional sales figures."
   ]
  },
  {
   "cell_type": "code",
   "execution_count": null,
   "id": "17d4c49c",
   "metadata": {},
   "outputs": [],
   "source": [
    "region_analysis = 'write region.csv containing sales, profits & discounts by region, sorted descending by profits'\n",
    "\n",
    "# Run the agent with markdown\n",
    "run_agent_and_display_markdown(superstore_agent, region_analysis)"
   ]
  },
  {
   "cell_type": "markdown",
   "id": "ca675f25",
   "metadata": {},
   "source": [
    "### Categorical Data\n",
    "\n",
    "Where would we be if it weren't for all those sales categories to slice & dice?"
   ]
  },
  {
   "cell_type": "code",
   "execution_count": null,
   "id": "8300f468",
   "metadata": {},
   "outputs": [],
   "source": [
    "category_analysis = 'write category.csv containing sales, profits & discounts by category, sorted descending by profits'\n",
    "\n",
    "# Run the agent with markdown\n",
    "run_agent_and_display_markdown(superstore_agent, category_analysis)"
   ]
  },
  {
   "cell_type": "markdown",
   "id": "d3920635",
   "metadata": {},
   "source": [
    "### Analyzing Shipping Performance\n",
    "\n",
    "Excellent! We're building a nice collection of data files for our agent to use. Let's gather one more set of information, this time focusing on shipping performance."
   ]
  },
  {
   "cell_type": "code",
   "execution_count": null,
   "id": "1e7171b7",
   "metadata": {},
   "outputs": [],
   "source": [
    "category_analysis = 'write shipping.csv containing sales, profits & discounts by ship mode, sorted descending by profits'\n",
    "\n",
    "# Run the agent with markdown\n",
    "run_agent_and_display_markdown(superstore_agent, category_analysis)"
   ]
  },
  {
   "cell_type": "markdown",
   "id": "75090344",
   "metadata": {},
   "source": [
    "### Gathering Yearly Performance Data\n",
    "\n",
    "Alright, last one, I promise! To complete our data collection, let's get a broad overview of yearly performance."
   ]
  },
  {
   "cell_type": "code",
   "execution_count": null,
   "id": "c57447e1",
   "metadata": {},
   "outputs": [],
   "source": [
    "yearly_analysis = 'write yearly.csv containing sales, profits & discounts for each year, sorted ascending by year'\n",
    "\n",
    "# Run the agent with markdown\n",
    "run_agent_and_display_markdown(superstore_agent, yearly_analysis)"
   ]
  },
  {
   "cell_type": "markdown",
   "id": "0e41eae5",
   "metadata": {},
   "source": [
    "### NOTE:\n",
    "\n",
    "We are having Agent Superstore export small chunks of data because it does not have a formal \"export\" tool, in fact the agent is writing the .csv files like in the same way it generates responses to your chats.\n",
    "\n",
    "This takes time, has limits on the size of data and costs money. This is an interesting note when using *LLMs (Large Language Models)*:\n",
    "\n",
    "> Giving the model lots of data is cheap and fast so go ahead\n",
    "> \n",
    "> Having the model generate lots of data as a response costs more and takes more time\n",
    "\n",
    "It is more efficient to use a tool designed for this purpose, one that exports data from Tableau into the desired format directly without going through an LLM for the output.\n",
    "\n",
    "Such a tool does not exist today, but if you like a good challenge and would like to contribute to the [tableau_langchain](https://github.com/Tab-SE/tableau_langchain) project as way to say thank you we would love that!"
   ]
  },
  {
   "cell_type": "markdown",
   "id": "5490bf57",
   "metadata": {},
   "source": [
    "\n",
    "![](./assets/vizart/lines-blue-dark.png)\n",
    "\n",
    "## Introducing the Agent's Scratchpad 📝\n",
    "\n",
    "Just like any diligent analyst, our Superstore agent needs a space to jot down notes, outline steps, and keep track of its progress as it works through tasks. Think of it as the agent's \"scratchpad.\"\n",
    "\n",
    "Incorporating a scratchpad mechanism is actually a well-established technique in the world of AI agents. It helps them to break down complex tasks into smaller, manageable steps, reason through challenges, and ultimately produce more coherent and accurate results.\n",
    "\n",
    "By providing our agent with the ability to write to and read from its scratchpad (which will be implemented using our file system tools), we're enabling it to perform more sophisticated, multi-step operations, just like a human analyst would when tackling a complex problem. Let's see how we can leverage this!"
   ]
  },
  {
   "cell_type": "code",
   "execution_count": null,
   "id": "632a46e8",
   "metadata": {},
   "outputs": [],
   "source": [
    "scratchpad = \"\"\"\n",
    "Write scratchpad.txt use it as a place to take notes. Inspect each .csv in the file system and write thorough notes describing \n",
    "your observations and insights into scratchpad.txt. Loop through each .csv and take your time to write your notes before reading\n",
    "the next .csv. Identify strengths and areas for improvement in your notes. Stop once you have gone through all the .csv files\n",
    "\"\"\"\n",
    "\n",
    "# Run the agent with markdown\n",
    "run_agent_and_display_markdown(superstore_agent, scratchpad)"
   ]
  },
  {
   "cell_type": "markdown",
   "id": "5c0ceba5",
   "metadata": {},
   "source": [
    "## Generating the Final Report ☕\n",
    "\n",
    "And now for the grand finale! The ultimate goal is to have our Superstore agent compile all the information it has gathered and analyzed into a well-formatted report – something you could comfortably read and digest with your morning coffee.\n",
    "\n",
    "After all, that's a core purpose of intelligent agents: to automate tasks, synthesize information, and present it in a user-friendly way."
   ]
  },
  {
   "cell_type": "code",
   "execution_count": null,
   "id": "1e2148d5",
   "metadata": {},
   "outputs": [],
   "source": [
    "report = \"\"\"\n",
    "Write analysis.md with detailed sales analysis. Your work must comply with reporting_guidelines.md with regards to structure,\n",
    "format, style and other instructions. The report must be written based on the findings found in scratchpad.txt\n",
    "\"\"\"\n",
    "\n",
    "# Run the agent with markdown\n",
    "run_agent_and_display_markdown(superstore_agent, report)"
   ]
  },
  {
   "cell_type": "markdown",
   "id": "47a7a0b6",
   "metadata": {},
   "source": [
    "## Summarization for the Win! Laziness is the mother of progress 😉\n",
    "\n",
    "You know what? You've got a great point! In today's fast-paced world, who always has the time to read through lengthy reports? Let's leverage the power of our intelligent agent to make things even easier.\n",
    "\n",
    "Since our agent can now read files, why not instruct it to **summarize the report** it just created? This way, you can get the key takeaways and insights without having to wade through all the details. It's all about working smarter, not harder!\n",
    "\n",
    "Let's add one final step to our workflow: asking the agent to read the generated report file and provide a concise summary. This will demonstrate its ability to not only analyze data and write reports but also to condense that information into easily digestible summaries. Let's make our agent do the reading for us!"
   ]
  },
  {
   "cell_type": "code",
   "execution_count": null,
   "id": "b4a124ed",
   "metadata": {},
   "outputs": [],
   "source": [
    "tableau_reader = \"\"\"\n",
    "Summarize the findings of the analysis.md file\n",
    "\"\"\"\n",
    "\n",
    "# Run the agent with markdown\n",
    "run_agent_and_display_markdown(superstore_agent, tableau_reader)"
   ]
  },
  {
   "cell_type": "markdown",
   "id": "a6faa535",
   "metadata": {},
   "source": [
    "## Congratulations! You've Conquered Part 4! 🎉\n",
    "\n",
    "Wow! That was quite the journey, wasn't it? Hopefully, you're starting to feel the immense power and potential of intelligent agents!\n",
    "\n",
    "In this lesson, we took our Superstore agent to a whole new level by integrating it with the file system. We successfully combined its ability to retrieve data from Tableau with the power to read, write, and list files. And just like that, we essentially built a **report-writing agent from scratch**!\n",
    "\n",
    "Go ahead and give yourself a well-deserved pat on the back. That was truly awesome work!\n",
    "\n",
    "![blue dark line chart](./assets/vizart/pyramid-blue-dark.png)"
   ]
  }
 ],
 "metadata": {
  "kernelspec": {
   "display_name": "tableau_langchain_v2",
   "language": "python",
   "name": "python3"
  },
  "language_info": {
   "codemirror_mode": {
    "name": "ipython",
    "version": 3
   },
   "file_extension": ".py",
   "mimetype": "text/x-python",
   "name": "python",
   "nbconvert_exporter": "python",
   "pygments_lexer": "ipython3",
   "version": "3.13.2"
  }
 },
 "nbformat": 4,
 "nbformat_minor": 5
}
