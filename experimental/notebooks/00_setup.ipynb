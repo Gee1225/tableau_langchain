{
 "cells": [
  {
   "cell_type": "markdown",
   "id": "c2a8344d",
   "metadata": {},
   "source": [
    "# 🚀 Welcome to the Tableau for AI Developers Hands-On Training! 🚀\n",
    "\n",
    "## Tableau Conference 2025 - San Diego! ☀️🌊\n",
    "\n",
    "Hello and a massive, enthusiastic **WELCOME** to everyone joining us today! We are absolutely thrilled to have you here in sunny San Diego for what promises to be an exciting hands-on session at Tableau Conference 2025! 🎉\n",
    "\n",
    "Over the next little while, we're going to embark on a fantastic journey together, exploring the powerful intersection of **Tableau** and cutting-edge **AI frameworks like Langchain and LangGraph**. Our goal? To show you how you can build intelligent agents capable of interacting with your Tableau environment, querying data sources, and even integrating with other tools like Slack!\n",
    "\n",
    "Get ready to roll up your sleeves and dive into the code. We'll be using **Jupyter Notebooks** (like this one!) which allow us to blend explanations with runnable Python code, making for a truly interactive learning experience. We anticipate you'll be interacting with these notebooks primarily through a Jupyter interface (like JupyterLab, classic Notebook, or VS Code's integrated Jupyter tools).\n",
    "\n",
    "We've designed this session to be practical, insightful, and hopefully, a lot of fun! Let's get started by making sure everyone's development environment is ready to go! 👇"
   ]
  },
  {
   "cell_type": "markdown",
   "id": "14fe8e99",
   "metadata": {},
   "source": [
    "## 🚦 Quick Note on Network Access\n",
    "\n",
    "For a smooth experience, especially if setting up locally, please ensure your network connection allows access to:\n",
    "* `github.com` (for downloading the workshop code)\n",
    "* `pypi.org` (for installing Python packages)\n",
    "* OpenAI API endpoints (`api.openai.com`)\n",
    "* The specific Tableau Cloud/Server domain we'll be using (details in the `.env` setup)\n",
    "* Slack API endpoints (`slack.com`)\n",
    "\n",
    "Conference Wi-Fi should generally be fine, but keep this in mind if using VPNs or strict corporate networks."
   ]
  },
  {
   "cell_type": "markdown",
   "id": "c3b07262",
   "metadata": {},
   "source": [
    "## ✅ Step 1: Getting Your Environment Ready\n",
    "\n",
    "We want to make sure you can run all the code smoothly. Here’s how to set things up:\n",
    "\n",
    "### Option A: Using the Provided Workshop Virtual Machine (VM) - Recommended! 👍\n",
    "\n",
    "If you are using the Virtual Machine specifically set up for this workshop – fantastic! You're likely already set up. The VM should have all the necessary software and Python packages pre-installed. You can probably skip straight to **Step 2: Clone the Workshop Repository**!\n",
    "\n",
    "### Option B: Setting Up Your Local Machine (If *Not* Using the VM) 💻\n",
    "\n",
    "No worries if you would rather work directly on your own machine! We just need to make sure you have the required tools and libraries.\n",
    "\n",
    "**1. Python:** Ensure you have Python installed (version 3.8 or newer is recommended). You can check by opening a terminal or command prompt and typing `python --version` or `python3 --version`. If you need to install it, visit [python.org](https://www.python.org/).\n",
    "\n",
    "**2. Git:** We need Git to download the workshop materials. Check if it's installed by typing `git --version` in your terminal. If not, download it from [git-scm.com](https://git-scm.com/).\n",
    "\n",
    "**3. Create a Python Virtual Environment (Highly Recommended!):**\n",
    "   To avoid conflicts with other Python projects on your system, we *strongly* recommend creating and activating a dedicated virtual environment for this workshop. Open your terminal in the directory where you plan to clone the repository (or anywhere suitable) and run:\n",
    "\n",
    "   ```bash\n",
    "   # Create the virtual environment (e.g., named 'tableau-ai-env')\n",
    "   python3 -m venv tableau-ai-env\n",
    "\n",
    "   # Activate the environment:\n",
    "   # On macOS/Linux:\n",
    "   source tableau-ai-env/bin/activate\n",
    "   # On Windows:\n",
    "   .\\tableau-ai-env\\Scripts\\activate\n",
    "   ```\n",
    "   \n",
    "   You should see the environment name (e.g., (tableau-ai-env)) appear at the beginning of your terminal prompt, indicating it's active. Remember to activate this environment every time you work on the workshop in a new terminal session.\n",
    "\n",
    "**4. Install Required Python Packages:**\n",
    "   With your virtual environment activated, run the following command to install the core libraries we'll be using:\n",
    "\n",
    "      ```bash\n",
    "   pip install langchain langchain-openai langgraph python-dotenv langchain-community slack_sdk jupyter ipython -U\n",
    "   ```\n",
    "\n",
    "   (Note: The -U flag attempts to upgrade the packages if they are already installed.)"
   ]
  },
  {
   "cell_type": "markdown",
   "id": "8efaf33f",
   "metadata": {},
   "source": [
    "Wait! What about the Tableau-specific tools? Good question! The special langchain-tableau tools are included within the workshop repository itself. We'll install those in Step 3 after cloning the repo."
   ]
  },
  {
   "cell_type": "markdown",
   "id": "e18a9d66",
   "metadata": {},
   "source": [
    "## 📂 Step 2: Clone the Workshop Repository\n",
    "\n",
    "All the notebooks, code, and assets for this training are stored in a GitHub repository. Let's download it!\n",
    "\n",
    "1.  Open your terminal or command prompt (ensure your virtual environment is active if you created one).\n",
    "2.  Navigate to the directory where you want to store the workshop files (e.g., your Desktop or a dedicated projects folder).\n",
    "3.  Run the following command:"
   ]
  },
  {
   "cell_type": "code",
   "execution_count": null,
   "id": "f852ada5",
   "metadata": {},
   "outputs": [],
   "source": [
    "# You can run this cell directly if you prefer! Make sure you are in the desired parent directory.\n",
    "# Note: If running in Jupyter, this command might execute in the context of the notebook server.\n",
    "# It's often safer to run git commands directly in your system's terminal.\n",
    "# #!git clone https://github.com/Tab-SE/tableau_langchain"
   ]
  },
  {
   "cell_type": "markdown",
   "id": "68219c17",
   "metadata": {},
   "source": [
    "Now, execute the `git clone` command in your **system terminal** (not this notebook cell, unless you uncommented and ran the cell above):\n",
    "\n",
    "```bash\n",
    "git clone [https://github.com/Tab-SE/tableau_langchain](https://github.com/Tab-SE/tableau_langchain)\n",
    "```\n",
    "\n",
    "This will create a new folder named `tableau_langchain`. Navigate into this folder using your terminal:\n",
    "\n",
    "```bash\n",
    "cd tableau_langchain\n",
    "```\n",
    "\n",
    "Excellent! You now have all the workshop materials locally."
   ]
  },
  {
   "cell_type": "markdown",
   "id": "5f2f4ac5",
   "metadata": {},
   "source": [
    "## 🛠️ Step 3: Install Custom Tableau Tools (Required for All Setups!)\n",
    "\n",
    "Now that you've cloned the repository, we need to install the custom `langchain-tableau` package that contains the specific tools for interacting with Tableau. This step is necessary whether you're using the VM or your local machine.\n",
    "\n",
    "Make sure you are **inside the `tableau_langchain` directory** in your terminal or command prompt (and your virtual environment is active, if applicable), and then run the following command in your **system terminal**:\n",
    "\n",
    "```bash\n",
    "pip install -e .\n",
    "```\n",
    "\n",
    "The `-e .` part tells pip to install the package located in the current directory (`.`) in \"editable\" mode (`-e`), which is standard practice for local package development and use."
   ]
  },
  {
   "cell_type": "markdown",
   "id": "ce2b0782",
   "metadata": {},
   "source": [
    "## 🔑 Step 4: Setting Up Your Environment Variables (.env file)\n",
    "\n",
    "To interact with services like OpenAI, Tableau, and Slack, our code needs access to specific credentials and configuration details (like API keys and server addresses). **Good news! You do *not* need to create your own OpenAI accounts, Tableau Connected Apps, or Slack tokens for this session.** We will provide everything you need!\n",
    "\n",
    "For security and convenience, we'll store these provided credentials in a special file called `.env`. **This file is crucial for the workshop!**\n",
    "\n",
    "**Here's how to set it up:**\n",
    "\n",
    "1.  **Get the Variables:** During the session, we will provide you with a **URL**. Please navigate to this URL in your web browser.\n",
    "2.  **Copy Everything:** You will see a block of text on that page. **Select and copy ALL of the text** provided. This text contains all the necessary environment variables formatted correctly (e.g., `VARIABLE_NAME=variable_value`).\n",
    "3.  **Create the `.env` File:**\n",
    "    * Go back to your file explorer or your code editor (like VS Code, Sublime Text, Notepad, etc. - any text editor will work!).\n",
    "    * Navigate to the **root directory** of the `tableau_langchain` project you just cloned.\n",
    "    * Create a **new file** exactly named: `.env` (notice the dot at the beginning!).\n",
    "4.  **Paste and Save:**\n",
    "    * Open the newly created `.env` file.\n",
    "    * **Paste** the entire block of text you copied from the URL into this file.\n",
    "    * **Save** the `.env` file.\n",
    "\n",
    "That's it! The Python code in our notebooks is configured to automatically load these variables from the `.env` file, so you won't need to paste keys directly into the code.\n",
    "\n",
    "*(Security Note: The `.env` file is typically included in a `.gitignore` file to prevent accidentally committing sensitive credentials to version control. You should never share the contents of your `.env` file publicly!)*"
   ]
  },
  {
   "cell_type": "markdown",
   "id": "13a4a845",
   "metadata": {},
   "source": [
    "## ✨ All Set and Ready to Go! ✨\n",
    "\n",
    "If you've completed these steps, your environment should be perfectly configured for our hands-on exercises! You've got the code, the dependencies, and the necessary credentials safely stored. Pat yourself on the back! 🎉\n",
    "\n",
    "We're incredibly excited to guide you through the next notebooks where we'll build our first LangGraph agent, connect it to Tableau data sources, and even teach it some new tricks with file systems and Slack!"
   ]
  },
  {
   "cell_type": "markdown",
   "id": "3d7106fe",
   "metadata": {},
   "source": [
    "## 🩺 Final Check (Optional but Recommended!)\n",
    "\n",
    "Run the code cell below to perform a quick check that the main libraries are installed and the `.env` file is detectable. Don't worry if you see warnings about specific keys not being found yet if you haven't completed Step 4, but major import errors might indicate an issue with Steps 1-3."
   ]
  },
  {
   "cell_type": "code",
   "execution_count": 5,
   "id": "f976e7c9",
   "metadata": {},
   "outputs": [
    {
     "name": "stdout",
     "output_type": "stream",
     "text": [
      "Python Version: 3.13.2 | packaged by conda-forge | (main, Feb 17 2025, 14:02:48) [Clang 18.1.8 ]\n",
      "Current Working Directory: /Users/aissaly/Documents/Dev/tableau_langchain/experimental/notebooks\n",
      "--------------------\n",
      "✅ langchain version: 0.3.23\n",
      "✅ langchain_openai imported\n",
      "✅ langgraph imported\n",
      "✅ langchain_community imported\n",
      "✅ langchain_tableau imported\n",
      "✅ slack_sdk imported\n",
      "✅ dotenv imported\n",
      "--------------------\n",
      "Core libraries imported successfully!\n",
      "--------------------\n",
      "✅ .env file found and loaded from: /Users/aissaly/Documents/Dev/tableau_langchain/.env\n",
      "--------------------\n"
     ]
    }
   ],
   "source": [
    "# Quick Check - Run this cell!\n",
    "import sys\n",
    "import os\n",
    "import warnings # Import warnings module\n",
    "\n",
    "print(f\"Python Version: {sys.version}\")\n",
    "print(f\"Current Working Directory: {os.getcwd()}\")\n",
    "print(\"-\" * 20)\n",
    "\n",
    "try:\n",
    "    import langchain\n",
    "    print(f\"✅ langchain version: {langchain.__version__}\")\n",
    "    import langchain_openai\n",
    "    print(\"✅ langchain_openai imported\")\n",
    "    import langgraph\n",
    "    print(f\"✅ langgraph imported\")\n",
    "    import langchain_community\n",
    "    print(\"✅ langchain_community imported\")\n",
    "    import langchain_tableau # Check if our custom package is importable\n",
    "    print(\"✅ langchain_tableau imported\")\n",
    "    import slack_sdk\n",
    "    print(f\"✅ slack_sdk imported\")\n",
    "    from dotenv import find_dotenv, load_dotenv\n",
    "    print(\"✅ dotenv imported\")\n",
    "    print(\"-\" * 20)\n",
    "    print(\"Core libraries imported successfully!\")\n",
    "    print(\"-\" * 20)\n",
    "\n",
    "\n",
    "    # Suppress the specific UserWarning from dotenv - Optional, but cleans up output\n",
    "    # You might comment this out if you *want* to see the warning explicitly\n",
    "    # warnings.filterwarnings(\"ignore\", message=\"Could not find .env file.\")\n",
    "\n",
    "    # Check for .env file in the current directory OR parent directories\n",
    "    env_path = find_dotenv() # Find the path first\n",
    "\n",
    "    if env_path:\n",
    "         print(f\"✅ .env file found and loaded from: {env_path}\")\n",
    "         # Optionally check for a specific key existence - useful for debugging later\n",
    "         # Example: Check if a key expected from the .env URL exists\n",
    "         # You can uncomment and adapt this check once you know a key name from the provided .env content\n",
    "         # expected_key = \"OPENAI_API_KEY\" # Replace with an actual key name\n",
    "         # if os.getenv(expected_key):\n",
    "         #    print(f\"   - Found {expected_key} in environment.\")\n",
    "         # else:\n",
    "         #    print(f\"   - WARNING: {expected_key} not found (is it in your .env file?).\")\n",
    "    else:\n",
    "         print(\"🟡 Warning: .env file not found in current or parent directories.\")\n",
    "         print(\"   Please ensure you have completed Step 4 correctly:\")\n",
    "         print(\"   1. Create the file named exactly '.env' (dot included) at the ROOT of the 'tableau_langchain' project.\")\n",
    "         print(\"   2. Paste the entire content provided via the URL into this file.\")\n",
    "         print(\"   3. Save the file.\")\n",
    "         print(f\"   (Searching started from: {os.getcwd()})\")\n",
    "\n",
    "\n",
    "    # Reset warnings filter after use if desired\n",
    "    # warnings.resetwarnings()\n",
    "\n",
    "except ImportError as e:\n",
    "    print(\"-\" * 20)\n",
    "    if 'langchain_tableau' in str(e):\n",
    "        print(f\"❌ ERROR: Failed to import 'langchain_tableau' - {e}.\")\n",
    "        print(\"   Did you run 'pip install -e .' INSIDE the 'tableau_langchain' directory (Step 3)?\")\n",
    "        print(f\"   Current directory is: {os.getcwd()}\")\n",
    "    else:\n",
    "        print(f\"❌ ERROR: Failed to import library - {e}.\")\n",
    "        print(\"   Please double-check the installation steps (pip install commands in Step 1 and Step 3).\")\n",
    "        print(\"   Ensure your virtual environment is activated if you are using one.\")\n",
    "except Exception as e:\n",
    "    print(\"-\" * 20)\n",
    "    print(f\"❌ An unexpected error occurred: {e}\")\n",
    "\n",
    "print(\"-\" * 20)"
   ]
  },
  {
   "cell_type": "markdown",
   "id": "bb85fa35",
   "metadata": {},
   "source": [
    "\n",
    "Let the learning (and fun!) begin! Please open the next notebook: `01_intro_to_langgraph.ipynb`. If you encounter any issues during setup, please don't hesitate to ask for help! 😊"
   ]
  }
 ],
 "metadata": {
  "kernelspec": {
   "display_name": "tableau_langchain_v2",
   "language": "python",
   "name": "python3"
  },
  "language_info": {
   "codemirror_mode": {
    "name": "ipython",
    "version": 3
   },
   "file_extension": ".py",
   "mimetype": "text/x-python",
   "name": "python",
   "nbconvert_exporter": "python",
   "pygments_lexer": "ipython3",
   "version": "3.13.2"
  }
 },
 "nbformat": 4,
 "nbformat_minor": 5
}
