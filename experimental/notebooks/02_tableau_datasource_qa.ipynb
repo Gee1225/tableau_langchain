{
 "cells": [
  {
   "cell_type": "markdown",
   "id": "10ef7bd0",
   "metadata": {},
   "source": [
    "# Tableau Data Source Q&A\n",
    "\n",
    "Now that we have an agent we can give our first Tableau tool to the agent so it can query a datasource and analyze the result. \n",
    "\n",
    "This Datasource Q&A tool leverages a few Tableau features to function:\n",
    "\n",
    "1. VizQL Data Service API -> Where the Agent requests data from a published data source and obtains useful metadata\n",
    "2. Metadata API -> How the Agent obtains useful semantics such as synonyms for individual fields via the Data Catalog\n",
    "\n",
    "With these capabilities you can equip the agent to surface insights in natural language from the data sources you have diligently built to run your analytics practice with [Tableau Prep](https://www.tableau.com/products/prep) (shown below).\n",
    "\n",
    "![Tableau Prep](./assets/prep_builder.png)\n",
    "\n",
    "This is the perfect way to maximize the impact of your work with AI agents.\n",
    "\n",
    "Start by importing the necessary packages:"
   ]
  },
  {
   "cell_type": "code",
   "execution_count": null,
   "id": "2686ae72",
   "metadata": {},
   "outputs": [],
   "source": [
    "# to access environment variables\n",
    "import os\n",
    "from dotenv import load_dotenv\n",
    "\n",
    "# Langgraph packages\n",
    "from langchain_openai import ChatOpenAI\n",
    "from langgraph.prebuilt import create_react_agent\n",
    "\n",
    "# langchain_tableau packages\n",
    "from langchain_tableau.tools.simple_datasource_qa import initialize_simple_datasource_qa"
   ]
  },
  {
   "cell_type": "markdown",
   "id": "18883337",
   "metadata": {},
   "source": [
    "## Environment Variables\n",
    "\n",
    "In order to query published data sources on Tableau, the agent tool must authenticate to the site using a [Connected App](https://www.tableau.com/blog/unlock-power-personalized-analytics-user-attribute-functions). This authentication mechanism is the best practice for security and control when integrating code with Tableau as it provides the most control to developers.\n",
    "\n",
    "Connected Apps [rely on secrets and IDs](https://help.tableau.com/current/online/en-us/connected_apps_direct.htm) to \"sign\" [JSON Web Tokens](https://jwt.io/) (JWTs) that should be kept private and not published to the internet on places such as Github. Other bad actors such as people and agents can find these credentials and use them for nefarios purposes. \n",
    "\n",
    "In order to secure these credentials we use the industry standard `.env` file which is ignored by `git` and therefore not published to places like Github when we share code.\n",
    "\n",
    "The following code has the `load_dotenv()` function load the contents of the `.env` file so it is accessible via Python code and then used them to initialize the variables we need for the tool:"
   ]
  },
  {
   "cell_type": "code",
   "execution_count": null,
   "id": "0d948961",
   "metadata": {},
   "outputs": [],
   "source": [
    "# loads environment variables into Python script\n",
    "load_dotenv()\n",
    "\n",
    "# initialize variables with these secure values\n",
    "tableau_server = os.getenv('TABLEAU_JWT_CLIENT_ID')\n",
    "tableau_site = os.getenv('TABLEAU_JWT_CLIENT_ID')\n",
    "tableau_jwt_client_id = os.getenv('TABLEAU_JWT_CLIENT_ID')\n",
    "tableau_jwt_secret_id = os.getenv('TABLEAU_JWT_SECRET_ID')\n",
    "tableau_jwt_secret = os.getenv('TABLEAU_JWT_SECRET')\n",
    "tableau_api_version = os.getenv('TABLEAU_JWT_CLIENT_ID')\n",
    "tableau_user = os.getenv('TABLEAU_JWT_CLIENT_ID')\n",
    "datasource_luid = os.getenv('TABLEAU_JWT_CLIENT_ID')"
   ]
  },
  {
   "cell_type": "markdown",
   "id": "93f1efd0",
   "metadata": {},
   "source": []
  }
 ],
 "metadata": {
  "kernelspec": {
   "display_name": "tableau_langchain",
   "language": "python",
   "name": "python3"
  },
  "language_info": {
   "codemirror_mode": {
    "name": "ipython",
    "version": 3
   },
   "file_extension": ".py",
   "mimetype": "text/x-python",
   "name": "python",
   "nbconvert_exporter": "python",
   "pygments_lexer": "ipython3",
   "version": "3.12.2"
  }
 },
 "nbformat": 4,
 "nbformat_minor": 5
}
