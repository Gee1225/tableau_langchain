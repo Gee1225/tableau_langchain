{
 "cells": [
  {
   "cell_type": "markdown",
   "id": "10ef7bd0",
   "metadata": {},
   "source": [
    "# Tableau Data Source Q&A\n",
    "\n",
    "Now that we have an agent we can give our first Tableau tool to the agent so it can query a datasource and analyze the result. \n",
    "\n",
    "This Datasource Q&A tool leverages a few Tableau features to function:\n",
    "\n",
    "1. VizQL Data Service API -> Where the Agent requests data from a published data source and obtains useful metadata\n",
    "2. Metadata API -> How the Agent obtains useful semantics such as synonyms for individual fields via the Data Catalog\n",
    "\n",
    "With these capabilities you can equip the agent to surface insights in natural language from the data sources you have diligently built to run your analytics practice with [Tableau Prep](https://www.tableau.com/products/prep) (shown below).\n",
    "\n",
    "![Tableau Prep](./assets/prep_builder.png)\n",
    "\n",
    "This is the perfect way to maximize the impact of your work with AI agents.\n",
    "\n",
    "Start by importing the necessary packages:"
   ]
  },
  {
   "cell_type": "code",
   "execution_count": null,
   "id": "2686ae72",
   "metadata": {},
   "outputs": [],
   "source": [
    "# to access environment variables\n",
    "import os\n",
    "from dotenv import load_dotenv\n",
    "\n",
    "# for displaying pretty results in the notebook\n",
    "from IPython.display import display, Markdown\n",
    "\n",
    "# Langgraph packages\n",
    "from langchain_openai import ChatOpenAI\n",
    "from langgraph.prebuilt import create_react_agent\n",
    "\n",
    "# langchain_tableau packages\n",
    "from langchain_tableau.tools.simple_datasource_qa import initialize_simple_datasource_qa"
   ]
  },
  {
   "cell_type": "markdown",
   "id": "18883337",
   "metadata": {},
   "source": [
    "## Environment Variables\n",
    "\n",
    "In order to query published data sources on Tableau, the agent tool must authenticate to the site using a [Connected App](https://www.tableau.com/blog/unlock-power-personalized-analytics-user-attribute-functions). This authentication mechanism is the best practice for security and control when integrating code with Tableau as it provides the most control to developers.\n",
    "\n",
    "Connected Apps [rely on secrets and IDs](https://help.tableau.com/current/online/en-us/connected_apps_direct.htm) to \"sign\" [JSON Web Tokens](https://jwt.io/) (JWTs) that should be kept private and not published to the internet on places such as Github. Other bad actors such as people and agents can find these credentials and use them for nefarios purposes. \n",
    "\n",
    "In order to secure these credentials we use the industry standard `.env` file which is ignored by `git` and therefore not published to places like Github when we share code.\n",
    "\n",
    "The following code has the `load_dotenv()` function load the contents of the `.env` file so it is accessible via Python code and then used them to initialize the variables we need for the tool:"
   ]
  },
  {
   "cell_type": "code",
   "execution_count": null,
   "id": "0d948961",
   "metadata": {},
   "outputs": [],
   "source": [
    "# loads environment variables into Python script\n",
    "load_dotenv()\n",
    "\n",
    "# initialize variables with these secure values\n",
    "tableau_server = os.getenv('TABLEAU_DOMAIN')\n",
    "tableau_site = os.getenv('TABLEAU_SITE')\n",
    "tableau_jwt_client_id = os.getenv('TABLEAU_JWT_CLIENT_ID')\n",
    "tableau_jwt_secret_id = os.getenv('TABLEAU_JWT_SECRET_ID')\n",
    "tableau_jwt_secret = os.getenv('TABLEAU_JWT_SECRET')\n",
    "tableau_api_version = os.getenv('TABLEAU_API_VERSION')\n",
    "tableau_user = os.getenv('TABLEAU_USER')\n",
    "datasource_luid = os.getenv('DATASOURCE_LUID')\n",
    "tooling_model = os.getenv('TOOLING_MODEL')"
   ]
  },
  {
   "cell_type": "markdown",
   "id": "93f1efd0",
   "metadata": {},
   "source": [
    "## Initialize the Tool\n",
    "\n",
    "We first start a tool with the `initialize_simple_datasource_qa` function providing it with the information it needs to query a Tableau data source securely.\n",
    "\n",
    "Notice how the tool requires knowledge of a server, a site, the Connected App credentials (JWT), a user, a data source luid and a model. This is necessary in order for it to access a site as a specified user, find the right data source and then use an LLM to translate natural language questions or tasks the Agent receives into a data query.\n",
    "\n",
    "Once the tool is ready, we then add this tool to a \"List\" or Python data structure in brackets `[]` to contain one or more tools for the agent to use:"
   ]
  },
  {
   "cell_type": "code",
   "execution_count": null,
   "id": "6c5cf5c6",
   "metadata": {},
   "outputs": [],
   "source": [
    "# Initalize the tool for querying Tableau Datasources through VDS\n",
    "analyze_datasource = initialize_simple_datasource_qa(\n",
    "    domain=tableau_server,\n",
    "    site=tableau_site,\n",
    "    jwt_client_id=tableau_jwt_client_id,\n",
    "    jwt_secret_id=tableau_jwt_secret_id,\n",
    "    jwt_secret=tableau_jwt_secret,\n",
    "    tableau_api_version=tableau_api_version,\n",
    "    tableau_user=tableau_user,\n",
    "    datasource_luid=datasource_luid,\n",
    "    tooling_llm_model=tooling_model\n",
    ")\n",
    "\n",
    "# add the tool to a List to give to the agent\n",
    "tools = [ analyze_datasource ]"
   ]
  },
  {
   "cell_type": "markdown",
   "id": "5829270c",
   "metadata": {},
   "source": [
    "## Initialize the Agent\n",
    "\n",
    "After initializing the tool we can proceed start an agent using the prebuilt `create_react_agent` function provided by Langchain. This function has two basic requirements: a model and a list of tools.\n",
    "\n",
    "The LLM model in this case is used as the \"brains\" of the agent. This model chooses what tool to use according to the task is has been assigned to execute. In this capacity the LLM is relied upon to reason, plan and execute actions to accomplish a job.\n",
    "\n",
    "Once the agent decides to query a data source, it will provide inputs to the tool to describe what data it needs to analyze and the tool translates these requirements into a query to the VizQL Data Service:"
   ]
  },
  {
   "cell_type": "code",
   "execution_count": null,
   "id": "378b25e8",
   "metadata": {},
   "outputs": [],
   "source": [
    "# initialize a Large Language Model to be the \"brains\" of the Agent\n",
    "model = ChatOpenAI(model='gpt-4o-mini', temperature=0)\n",
    "\n",
    "analytics_agent = create_react_agent(model, tools)"
   ]
  },
  {
   "cell_type": "markdown",
   "id": "33107ae5",
   "metadata": {},
   "source": [
    "## Run the Agent\n",
    "\n"
   ]
  },
  {
   "cell_type": "code",
   "execution_count": null,
   "id": "d2fff3cc",
   "metadata": {},
   "outputs": [],
   "source": [
    "# Run the agent\n",
    "messages = analytics_agent.invoke({\n",
    "    \"messages\": [(\"human\",'which states sell the most? Are those the same states with the most profits?')]\n",
    "})\n",
    "\n",
    "# display a nicely formatted answer\n",
    "display(Markdown(messages['messages'][4].content)) "
   ]
  }
 ],
 "metadata": {
  "kernelspec": {
   "display_name": "tableau_langchain",
   "language": "python",
   "name": "python3"
  },
  "language_info": {
   "codemirror_mode": {
    "name": "ipython",
    "version": 3
   },
   "file_extension": ".py",
   "mimetype": "text/x-python",
   "name": "python",
   "nbconvert_exporter": "python",
   "pygments_lexer": "ipython3",
   "version": "3.12.2"
  }
 },
 "nbformat": 4,
 "nbformat_minor": 5
}
