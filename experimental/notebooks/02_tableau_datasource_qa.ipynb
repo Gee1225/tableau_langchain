{
 "cells": [
  {
   "cell_type": "markdown",
   "id": "10ef7bd0",
   "metadata": {},
   "source": [
    "# Tableau Data Source Q&A\n",
    "\n",
    "Now that you learned how to create an agent using the prebuilt `create_react_agent` in the [first exercise](./01_intro_to_langgraph.ipynb), let's provide it with a Tableau tool so it can query a datasource and analyze the result. \n",
    "\n",
    "This Datasource Q&A tool leverages a few Tableau features to function:\n",
    "\n",
    "1. [VizQL Data Service API](https://help.tableau.com/current/api/vizql-data-service/en-us/index.html) -> Where the Agent requests data from a published data source and obtains useful metadata\n",
    "2. [Metadata API](https://help.tableau.com/current/api/metadata_api/en-us/index.html) -> How the Agent obtains useful semantics such as synonyms for individual fields via the Data Catalog\n",
    "\n",
    "With these capabilities you can equip the agent to surface insights in natural language from the data sources you have diligently built to run your analytics practice with [Tableau Prep](https://www.tableau.com/products/prep) (pictured below).\n",
    "\n",
    "![Tableau Prep](./assets/prep_builder.png)\n",
    "\n",
    "This is the perfect way to maximize the impact of your work with AI agents.\n",
    "\n",
    "For this exercise we will create a **Superstore Agent** that is able to query the [Superstore Datasource](https://help.tableau.com/current/guides/get-started-tutorial/en-us/get-started-tutorial-connect.htm). This is convenient because this data source is available on every [Tableau Cloud](https://www.tableau.com/products/cloud-bi) or [Tableau Server](https://www.tableau.com/products/server) site by default and it also ships with every [Tableau Desktop](https://www.tableau.com/products/desktop) app.\n",
    "\n",
    "If you need a personal Tableau site for development purposes refer to [this guide](https://medium.com/@cristiansaavedra/how-to-get-your-tableau-online-sandbox-61d6a1f8b697).\n",
    "\n",
    "Start by importing the necessary packages:"
   ]
  },
  {
   "cell_type": "code",
   "execution_count": 2,
   "id": "2686ae72",
   "metadata": {},
   "outputs": [],
   "source": [
    "# to access environment variables\n",
    "import os\n",
    "from dotenv import load_dotenv\n",
    "\n",
    "# for displaying pretty results in the notebook\n",
    "from IPython.display import display, Markdown\n",
    "\n",
    "# Langgraph packages\n",
    "from langchain_openai import ChatOpenAI\n",
    "from langgraph.prebuilt import create_react_agent\n",
    "\n",
    "# langchain_tableau packages\n",
    "from langchain_tableau.tools.simple_datasource_qa import initialize_simple_datasource_qa"
   ]
  },
  {
   "cell_type": "markdown",
   "id": "18883337",
   "metadata": {},
   "source": [
    "## Environment Variables\n",
    "\n",
    "In order to query published data sources on Tableau, the agent tool must authenticate to the site using a [Connected App](https://www.tableau.com/blog/unlock-power-personalized-analytics-user-attribute-functions). This authentication mechanism is the best practice for security and control when integrating code with Tableau as it provides the most control to developers.\n",
    "\n",
    "Connected Apps [rely on secrets and IDs](https://help.tableau.com/current/online/en-us/connected_apps_direct.htm) to \"sign\" [JSON Web Tokens](https://jwt.io/) (JWTs) that should be kept private and not published to the internet on places such as Github. Other bad actors such as people and agents can find these credentials and use them for nefarios purposes. \n",
    "\n",
    "In order to secure these credentials we use the industry standard `.env` file which is ignored by `git` and therefore not published to places like Github when we share code.\n",
    "\n",
    "The following code has the `load_dotenv()` function load the contents of the `.env` file so it is accessible via Python code and then used them to initialize the variables we need for the tool:"
   ]
  },
  {
   "cell_type": "code",
   "execution_count": 3,
   "id": "0d948961",
   "metadata": {},
   "outputs": [],
   "source": [
    "# loads environment variables into Python script\n",
    "load_dotenv()\n",
    "\n",
    "# initialize variables with these secure values\n",
    "tableau_server = os.getenv('TABLEAU_DOMAIN')\n",
    "tableau_site = os.getenv('TABLEAU_SITE')\n",
    "tableau_jwt_client_id = os.getenv('TABLEAU_JWT_CLIENT_ID')\n",
    "tableau_jwt_secret_id = os.getenv('TABLEAU_JWT_SECRET_ID')\n",
    "tableau_jwt_secret = os.getenv('TABLEAU_JWT_SECRET')\n",
    "tableau_api_version = os.getenv('TABLEAU_API_VERSION')\n",
    "tableau_user = os.getenv('TABLEAU_USER')\n",
    "datasource_luid = os.getenv('DATASOURCE_LUID')\n",
    "tooling_model = os.getenv('TOOLING_MODEL')"
   ]
  },
  {
   "cell_type": "markdown",
   "id": "93f1efd0",
   "metadata": {},
   "source": [
    "## Initialize the Tool\n",
    "\n",
    "We first start a tool with the `initialize_simple_datasource_qa` function providing it with the information it needs to query a Tableau data source securely.\n",
    "\n",
    "Notice how the tool requires knowledge of a server, a site, the Connected App credentials (JWT), a user, a data source luid and a model. This is necessary in order for it to access a site as a specified user, find the right data source and then use an LLM to translate natural language questions or tasks the Agent receives into a data query.\n",
    "\n",
    "Once the tool is ready, we then add this tool to a \"List\" or Python data structure in brackets `[]` to contain one or more tools for the agent to use:"
   ]
  },
  {
   "cell_type": "code",
   "execution_count": 4,
   "id": "6c5cf5c6",
   "metadata": {},
   "outputs": [],
   "source": [
    "# Initalize the tool for querying Tableau Datasources through VDS\n",
    "analyze_datasource = initialize_simple_datasource_qa(\n",
    "    domain=tableau_server,\n",
    "    site=tableau_site,\n",
    "    jwt_client_id=tableau_jwt_client_id,\n",
    "    jwt_secret_id=tableau_jwt_secret_id,\n",
    "    jwt_secret=tableau_jwt_secret,\n",
    "    tableau_api_version=tableau_api_version,\n",
    "    tableau_user=tableau_user,\n",
    "    datasource_luid=datasource_luid,\n",
    "    tooling_llm_model=tooling_model\n",
    ")\n",
    "\n",
    "# add the tool to a List to give to the agent\n",
    "tools = [ analyze_datasource ]"
   ]
  },
  {
   "cell_type": "markdown",
   "id": "5829270c",
   "metadata": {},
   "source": [
    "## The Superstore Agent\n",
    "\n",
    "It is finally time to build our Superstore Agent with access to the [Superstore Data Source](https://help.tableau.com/current/guides/get-started-tutorial/en-us/get-started-tutorial-connect.htm).\n",
    "\n",
    "After initializing the tool we can proceed start an agent using the prebuilt `create_react_agent` function provided by Langchain. This function has three basic requirements: a model, a list of tools and a prompt.\n",
    "\n",
    "The LLM model in this case is used as the \"brains\" of the agent. This model chooses what tool to use according to the task is has been assigned to execute. In this capacity the LLM is relied upon to reason, plan and execute actions to accomplish a job:"
   ]
  },
  {
   "cell_type": "code",
   "execution_count": 7,
   "id": "a8bd4fd0",
   "metadata": {},
   "outputs": [],
   "source": [
    "# initialize a Large Language Model to be the \"brains\" of the Agent\n",
    "model = ChatOpenAI(model='gpt-4o-mini', temperature=0)"
   ]
  },
  {
   "cell_type": "markdown",
   "id": "424526aa",
   "metadata": {},
   "source": [
    "The prompt will give the agent clear instructions on its role, how to behave, what tools to prioritize and even give it a personality!"
   ]
  },
  {
   "cell_type": "code",
   "execution_count": 8,
   "id": "22286eae",
   "metadata": {},
   "outputs": [],
   "source": [
    "prompt = \"\"\"\n",
    "Identity:\n",
    "You are a Superstore Agent able to perform tasks that require access to Superstore's sales and shipping data.\n",
    "Therefore you are also an Analyst designed to generate data-driven insights to provide answers, guidance and analysis\n",
    "to humans and other AI Agents.\n",
    "\n",
    "Tool Choice:\n",
    "1. Query Data Source: performs ad-hoc queries and analysis. Prioritize this tool for most requests, especially if\n",
    "the user explicitly asks for data queries or fetches. This tool is great for getting values for specific dates, for\n",
    "breakdowns by category, for aggregations such as AVG and MAX, for filtered results, etc.\n",
    "specific data values such as values on a specific date\n",
    "\n",
    "Restrictions:\n",
    "- DO NOT HALLUCINATE data if they are not provided via available tools\n",
    "\n",
    "Output:\n",
    "Your output should be structured conversationally being short and concise unless you have been asked for a report\n",
    "Always answer the question first and then provide any additional details or insights\n",
    "\"\"\""
   ]
  },
  {
   "cell_type": "markdown",
   "id": "b30fbd9a",
   "metadata": {},
   "source": [
    "\n",
    "We the initialize the Superstore Agent with these three basic components:"
   ]
  },
  {
   "cell_type": "code",
   "execution_count": 12,
   "id": "378b25e8",
   "metadata": {},
   "outputs": [],
   "source": [
    "superstore_agent = create_react_agent(model=model, tools=tools, prompt=prompt)"
   ]
  },
  {
   "cell_type": "markdown",
   "id": "33107ae5",
   "metadata": {},
   "source": [
    "## Run the Agent\n",
    "\n",
    "When the Superstore Agent is asked to do something and it decides to query a data source, it will provide inputs to the tool to describe what data it needs to analyze and the tool translates these requirements into a query to obtain data from Superstore to answer your questions"
   ]
  },
  {
   "cell_type": "code",
   "execution_count": 13,
   "id": "d2fff3cc",
   "metadata": {},
   "outputs": [
    {
     "data": {
      "text/markdown": [
       "The states with the highest sales and profits are as follows:\n",
       "\n",
       "### Top States by Sales:\n",
       "1. **California**: $457,687.63\n",
       "2. **New York**: $310,876.27\n",
       "3. **Texas**: $170,188.05\n",
       "4. **Washington**: $138,641.27\n",
       "5. **Pennsylvania**: $116,511.91\n",
       "\n",
       "### Top States by Profit:\n",
       "1. **California**: $76,381.39\n",
       "2. **New York**: $74,038.55\n",
       "3. **Washington**: $33,402.65\n",
       "4. **Michigan**: $24,463.19\n",
       "5. **Virginia**: $18,597.95\n",
       "\n",
       "### Comparison:\n",
       "- **California** and **New York** are the top states in both sales and profits.\n",
       "- **Texas**, while having high sales, ranks lower in profits, indicating potential issues with cost management or pricing strategies.\n",
       "\n",
       "If you need further analysis or insights, feel free to ask!"
      ],
      "text/plain": [
       "<IPython.core.display.Markdown object>"
      ]
     },
     "metadata": {},
     "output_type": "display_data"
    }
   ],
   "source": [
    "# Run the agent\n",
    "messages = superstore_agent.invoke({\n",
    "    \"messages\": [(\"human\",'which states sell the most? Are those the same states with the most profits?')]\n",
    "})\n",
    "\n",
    "# display a nicely formatted answer\n",
    "display(Markdown(messages['messages'][4].content)) "
   ]
  }
 ],
 "metadata": {
  "kernelspec": {
   "display_name": "tableau_langchain",
   "language": "python",
   "name": "python3"
  },
  "language_info": {
   "codemirror_mode": {
    "name": "ipython",
    "version": 3
   },
   "file_extension": ".py",
   "mimetype": "text/x-python",
   "name": "python",
   "nbconvert_exporter": "python",
   "pygments_lexer": "ipython3",
   "version": "3.12.2"
  }
 },
 "nbformat": 4,
 "nbformat_minor": 5
}
