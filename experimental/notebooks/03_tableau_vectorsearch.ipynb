{
 "cells": [
  {
   "cell_type": "markdown",
   "id": "2cf8b5ff",
   "metadata": {},
   "source": [
    "# Tableau Vector Search\n",
    "\n"
   ]
  }
 ],
 "metadata": {
  "language_info": {
   "name": "python"
  }
 },
 "nbformat": 4,
 "nbformat_minor": 5
}
