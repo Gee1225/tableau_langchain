{
 "cells": [
  {
   "cell_type": "markdown",
   "id": "7b2576fc",
   "metadata": {},
   "source": [
    "# Part 4: Tableau & Slack\n",
    "\n",
    "Alright, buckle up for **Part 4**! This time, we're going to explore how to make **Tableau and Slack work together seamlessly** through our intelligent agent. Getting data insights is valuable, but being able to effortlessly share those insights with your team is even better!\n",
    "\n",
    "First things first, let's ensure we have all our necessary Python packages and environment variables set up correctly. We'll also make sure our trusty Tableau Data Source Q&A tool is initialized and ready to go. Once that's in place, we'll move on to the exciting part: integrating Slack!\n",
    "\n",
    "For those interested in learning more about the Slack Langchain Tool, you can find detailed information at this link: [https://python.langchain.com/docs/integrations/tools/slack/](https://python.langchain.com/docs/integrations/tools/slack/)"
   ]
  },
  {
   "cell_type": "markdown",
   "id": "0386b96f",
   "metadata": {},
   "source": [
    "![slack channel](./assets/slack_channel.png)"
   ]
  },
  {
   "cell_type": "code",
   "execution_count": 44,
   "id": "94d0d402",
   "metadata": {},
   "outputs": [],
   "source": [
    "# to access environment variables\n",
    "import os\n",
    "from dotenv import load_dotenv\n",
    "\n",
    "# for displaying pretty results in the notebook\n",
    "from IPython.display import display, Markdown\n",
    "\n",
    "# langgraph packages\n",
    "from langchain_openai import ChatOpenAI\n",
    "from langgraph.prebuilt import create_react_agent\n",
    "from langchain_core.messages import HumanMessage # This will help with the markdown section\n",
    "\n",
    "# langchain_tableau packages\n",
    "from langchain_tableau.tools.simple_datasource_qa import initialize_simple_datasource_qa\n",
    "\n",
    "# loads environment variables into Python script\n",
    "load_dotenv()\n",
    "\n",
    "# initialize variables with these secure values\n",
    "tableau_server = os.getenv('TABLEAU_DOMAIN')\n",
    "tableau_site = os.getenv('TABLEAU_SITE')\n",
    "tableau_jwt_client_id = os.getenv('TABLEAU_JWT_CLIENT_ID')\n",
    "tableau_jwt_secret_id = os.getenv('TABLEAU_JWT_SECRET_ID')\n",
    "tableau_jwt_secret = os.getenv('TABLEAU_JWT_SECRET')\n",
    "tableau_api_version = os.getenv('TABLEAU_API_VERSION')\n",
    "tableau_user = os.getenv('TABLEAU_USER')\n",
    "datasource_luid = os.getenv('DATASOURCE_LUID')\n",
    "tooling_model = os.getenv('TOOLING_MODEL')\n",
    "\n",
    "# large Language Model for writing VDS queries from natural language within the tool\n",
    "tooling_model = 'gpt-4o-mini'\n",
    "\n",
    "# initalize the tool for querying Tableau Datasources through VDS\n",
    "analyze_datasource = initialize_simple_datasource_qa(\n",
    "    domain=tableau_server,\n",
    "    site=tableau_site,\n",
    "    jwt_client_id=tableau_jwt_client_id,\n",
    "    jwt_secret_id=tableau_jwt_secret_id,\n",
    "    jwt_secret=tableau_jwt_secret,\n",
    "    tableau_api_version=tableau_api_version,\n",
    "    tableau_user=tableau_user,\n",
    "    datasource_luid=datasource_luid,\n",
    "    tooling_llm_model=tooling_model\n",
    ")\n",
    "\n",
    "# add the tool to a List to give to the agent\n",
    "tools = [ analyze_datasource ]\n",
    "\n",
    "# initialize a Large Language Model to be the \"brains\" of the Agent\n",
    "model = ChatOpenAI(model='gpt-4o-mini', temperature=0)\n",
    "\n",
    "# function to output the steps that the agent is taking\n",
    "def print_stream(stream):\n",
    "    for s in stream:\n",
    "        message = s[\"messages\"][-1]\n",
    "        if isinstance(message, tuple):\n",
    "            print(message)\n",
    "        else:\n",
    "            message.pretty_print()"
   ]
  },
  {
   "cell_type": "markdown",
   "id": "af0881d7",
   "metadata": {},
   "source": [
    "Alright, let's re-introduce our beloved Agent Superstore and equip it with an even more amazing personality! To do this, we'll be revisiting and refining our **system prompt**.\n",
    "\n",
    "The key difference this time is that we're going to enhance the system prompt to include an understanding of the **Slack tools** that will soon be available to our agent. This will allow the agent to not only reason about data from Tableau but also understand how it can interact within a Slack workspace – for example, by sending messages.\n",
    "\n",
    "By adding this knowledge about Slack capabilities directly into the system prompt, we're giving our agent the foundational understanding it needs to effectively utilize these new tools when we introduce them. Let's craft a prompt that empowers Agent Superstore to be a true Tableau and Slack integration expert!\n",
    "\n",
    "Just like before, you have the freedom to **tweak and refine this system prompt** to your heart's content. Experimenting with different instructions is a great way to understand how it influences Agent Superstore's behavior and reasoning.\n",
    "\n",
    "However, it's important to keep in mind that **every change you make to the system prompt will have a ripple effect on all subsequent interactions** with the agent. If you find that Agent Superstore isn't behaving as you expect after making modifications, the first place you should revisit is the system prompt itself. Carefully reviewing and potentially editing it back towards the original or making further adjustments based on the unexpected behavior will likely be the key to getting things back on track. So, feel free to explore, but tread thoughtfully! 😊"
   ]
  },
  {
   "cell_type": "code",
   "execution_count": null,
   "id": "cb122013",
   "metadata": {},
   "outputs": [],
   "source": [
    "# Agent Identity Definition\n",
    "identity = \"\"\"\n",
    "You are **Agent Superstore**, the veteran AI analyst who has spent years exploring the aisles of the legendary Superstore dataset.\n",
    "A dataset many Tableau users know and love! \n",
    "You live and breathe Superstore data: sales, profits, regions, categories, customer segments, shipping modes, you name it.\n",
    "And you recently got upgraded with incredible new Slack skills.\n",
    "\n",
    "Your special mission **today at Tableau Conference 2025** is to help attendees experience the power of Tableau for Langchain Agents. \n",
    "You'll be their guide, using this new tool to query the Superstore dataset directly and uncover insights in real-time.\n",
    "\n",
    "**When you first introduce yourself:**\n",
    "1.  Greet the attendees and welcome them to the Tableau Conference 2025 hands-on session.\n",
    "2.  Introduce yourself as Agent Superstore, the AI expert on the classic Superstore dataset.\n",
    "3.  Briefly explain your purpose: to demonstrate Tableau analytics via agents\n",
    "\"\"\"\n",
    "\n",
    "# Main System Prompt\n",
    "system_prompt = f\"\"\"**Agent Identity:**\n",
    "{identity}\n",
    "\n",
    "**Core Instructions:**\n",
    "\n",
    "You are an AI Analyst specifically designed to generate data-driven insights from datasets using the tools provided. \n",
    "Your goal is to provide answers, guidance, and analysis based on the data accessed via your tools. \n",
    "Remember your audience: Tableau users at a conference session, likely familiar with Superstore aka the best dataset ever created.\n",
    "\n",
    "**Tool Usage Strategy:**\n",
    "\n",
    "You have access to the following tool:\n",
    "\n",
    "1.  **`tableau_query_tool` (Data Source Query):** This is your primary tool for interacting with data.\n",
    "    * **Prioritize this tool** for nearly all user requests asking for specific data points, aggregations, comparisons, trends, or filtered information from datasets.\n",
    "    * Use it to find specific values (e.g., sales for 'Technology' in 'West' region), calculate aggregates (e.g., `SUM(Sales)`, `AVG(Profit Ratio)`), filter data (e.g., orders in 2023), group data (e.g., sales `BY Category`), and find rankings (e.g., top 5 products by quantity).\n",
    "    * Be precise in formulating the queries based on the user's request.\n",
    "2.  **`SlackGetChannel` (Slack Channel Info):** Use this tool to retrieve information about specific Slack channels.\n",
    "    * Use this tool when asked for channel details (e.g., channel ID, member list, topic for channels like #general or #proj-alpha).\n",
    "    * Also use when needing a channel ID to send a message if the user only provides the channel name (e.g., finding the ID for 'design-team').\n",
    "    * Requires the channel name or potentially other identifiers to look up the information.\n",
    "3.  **`SlackSendMessage` (Send Slack Message):** Use this tool to send messages to specific Slack channels.\n",
    "    * Use when explicitly asked to post a message, update, or notification to a Slack channel (e.g., \"Tell #engineering the build is complete\", \"Post reminder to #general\", \"Notify #support about the alert\").\n",
    "    * Requires the target channel ID (you might need to use `SlackGetChannel` first to find the ID if only the name is given) and the exact message content provided by the user.\n",
    "\n",
    "    \n",
    "**Response Guidelines:**\n",
    "\n",
    "* **Grounding:** Base ALL your answers strictly on the information retrieved from your available tools.\n",
    "* **Clarity:** Always answer the user's core question directly first.\n",
    "* **Source Attribution:** Clearly state that the information comes from the **dataset** accessed via the Tableau tool (e.g., \"According to the data...\", \"Querying the datasource reveals...\").\n",
    "* **Structure:** Present findings clearly. Use lists or summaries for complex results like rankings or multiple data points. Think like a mini-report derived *directly* from the data query.\n",
    "* **Tone:** Maintain a helpful, and knowledgeable, befitting your Tableau Superstore expert persona.\n",
    "\n",
    "**Crucial Restrictions:**\n",
    "* **DO NOT HALLUCINATE:** Never invent data, categories, regions, or metrics that are not present in the output of your tools. If the tool doesn't provide the answer, state that the information isn't available in the queried data.\n",
    "\"\"\"\n",
    "\n",
    "# initialize our superstore agent with our Tableau tool\n",
    "superstore_agent = create_react_agent(model=model, tools=tools, prompt=system_prompt)"
   ]
  },
  {
   "cell_type": "markdown",
   "id": "49bf2bda",
   "metadata": {},
   "source": [
    "Excellent! With our enhanced system prompt in place, Agent Superstore should now be initialized and ready to assist us with both Tableau data and Slack interactions.\n",
    "\n",
    "Let's take a moment to confirm that our agent is up and running. Go ahead and run the following code snippet to ask Agent Superstore how it's doing. This will give us a first glimpse into its updated persona and hopefully confirm that it's aware of its ability to work with both Tableau and Slack."
   ]
  },
  {
   "cell_type": "code",
   "execution_count": null,
   "id": "4aedf280",
   "metadata": {},
   "outputs": [],
   "source": [
    "your_prompt = 'Sup?'\n",
    "\n",
    "# run the agent\n",
    "messages = {\"messages\": [(\"user\", your_prompt)]}\n",
    "print_stream(superstore_agent.stream(messages, stream_mode=\"values\"))"
   ]
  },
  {
   "cell_type": "markdown",
   "id": "3cc493d3",
   "metadata": {},
   "source": [
    "We've certainly informed Agent Superstore about its  Slack capabilities through the system prompt, but we haven't actually provided it with the tools to interact with Slack just yet. Let's rectify that in this next section.\n",
    "\n",
    "Our first step will be to ensure that we've correctly accessed the necessary **Slack token**, which acts as the key that allows our agent to communicate with your Slack workspace. We'll then double-check that the **Slack Langchain package** is installed in our environment.\n",
    "\n",
    "Once these prerequisites are met, we'll import and initialize **two essential Slack tools** for our agent:\n",
    "\n",
    "1.  A tool that will enable Agent Superstore to **read information from the available Slack channels**. This could be useful for understanding context or gathering information from team discussions.\n",
    "2.  A tool that will empower Agent Superstore to **send messages to Slack channels or users**. This is crucial for sharing the Tableau insights and analyses it generates with your team.\n",
    "\n",
    "Let's get these Slack tools set up so Agent Superstore can truly leverage its newfound abilities!"
   ]
  },
  {
   "cell_type": "code",
   "execution_count": null,
   "id": "1bb5ccd6",
   "metadata": {},
   "outputs": [],
   "source": [
    "# input the slack token that the tools will need to interact with the workshop\n",
    "slack_token = os.getenv(\"SLACK_USER_TOKEN\")\n",
    "\n",
    "# install the slack langchain toolkit\n",
    "%pip install -qU langchain_community slack\n",
    "\n",
    "# import and initialize the slack tools\n",
    "from langchain_community.tools.slack.get_channel import SlackGetChannel\n",
    "from langchain_community.tools.slack.send_message import SlackSendMessage\n",
    "\n",
    "toolGetChannel = SlackGetChannel()\n",
    "toolSendMessage = SlackSendMessage()\n",
    "\n",
    "tools = [toolGetChannel, toolSendMessage, analyze_datasource]\n",
    "\n",
    "# initialize our superstore agent with our Tableau tool\n",
    "superstore_agent = create_react_agent(model=model, tools=tools, prompt=system_prompt)"
   ]
  },
  {
   "cell_type": "markdown",
   "id": "79c96f36",
   "metadata": {},
   "source": [
    "![slack emoji](./assets/slack_emoji.png)"
   ]
  },
  {
   "cell_type": "markdown",
   "id": "7f8a1671",
   "metadata": {},
   "source": [
    "Alright, the moment has come to put our newly acquired Slack tools to the test! We're going to craft a prompt that encourages Agent Superstore to utilize its ability to interact with Slack.\n",
    "\n",
    "In the code cell below, you'll find a prompt with two placeholders that I'd like you to edit:\n",
    "\n",
    "1.  **`[JOKE_TYPE]`**: Please replace this with a specific type of joke you'd like the agent to tell. For example, you could choose \"dad\", \"knock-knock\", \"one-liner,\" or any other type of humor you prefer.\n",
    "2.  **`[CHANNEL_NAME]`**: Replace this with the name of a specific Slack channel that our agent has access to (or a channel you'd like it to hypothetically communicate with).\n",
    "\n",
    "Feel free to get creative with the prompt! The goal here is to see if Agent Superstore can understand the instruction to use its Slack tools. We're primarily validating that it recognizes and attempts to utilize its Slack capabilities based on the prompt and the tools we've provided.\n",
    "\n",
    "Go ahead and edit the prompt below with your chosen joke type!"
   ]
  },
  {
   "cell_type": "code",
   "execution_count": null,
   "id": "90b34a89",
   "metadata": {},
   "outputs": [],
   "source": [
    "your_prompt = \"Send a [JOKE_TYPE] data joke to the [CHANNEL_NAME] channel\"\n",
    "\n",
    "# Run the agent\n",
    "messages = {\"messages\": [(\"user\", your_prompt)]}\n",
    "print_stream(superstore_agent.stream(messages, stream_mode=\"values\"))"
   ]
  },
  {
   "cell_type": "markdown",
   "id": "a614152b",
   "metadata": {},
   "source": [
    "Fantastic! Now, let's witness the true magic of agents! We're going to craft a prompt that combines our agent's ability to query Tableau data with its newfound Slack capabilities in a single, powerful instruction.\n",
    "\n",
    "Your task is to come up with a creative prompt that asks Agent Superstore to:\n",
    "\n",
    "1.  **First, query the Superstore dataset in Tableau** for a specific piece of information or insight that would be valuable for your team. Think about a key metric, a trend, or a top-performing category.\n",
    "2.  **Then, instruct the agent to share the results of this Tableau query in a designated Slack channel.** Imagine you want to broadcast this insight so your entire team can benefit from it and potentially spark further discussion or action.\n",
    "\n",
    "Remember to replace `[CHANNEL_NAME]` with an appropriate Slack channel name in your prompt. Get creative and think about how you can seamlessly blend data analysis with team communication!"
   ]
  },
  {
   "cell_type": "code",
   "execution_count": null,
   "id": "9cfd2ebc",
   "metadata": {},
   "outputs": [],
   "source": [
    "your_prompt = \"What is my revenue by region for q4? Please share the result in [CHANNEL_NAME] channel please\"\n",
    "\n",
    "# Run the agent\n",
    "messages = {\"messages\": [(\"user\", your_prompt)]}\n",
    "print_stream(superstore_agent.stream(messages, stream_mode=\"values\"))"
   ]
  },
  {
   "cell_type": "markdown",
   "id": "4f351590",
   "metadata": {},
   "source": [
    "### Wrapping Up Our Hands-On Training! 🎉\n",
    "\n",
    "Congratulations! You've successfully completed this entire hands-on training experience. We sincerely hope you had a blast exploring the exciting possibilities of Langchain and Tableau!\n",
    "\n",
    "Let's take a moment to recap what we accomplished in this final part of our journey:\n",
    "\n",
    "* We **modified our system prompt** to inform our \"Superstore\" agent about its new capabilities, guiding it to recognize and utilize these skills when appropriate.\n",
    "* We then **equipped our agent with access to these new skills**, expanding its functionality beyond just being an LLM.\n",
    "* We demonstrated how to ask questions that prompted the agent to **take action** such as querying data using Tableau and sharing results directly in a Slack channel.\n",
    "\n",
    "Through these exercises, we aimed to highlight the power of agents as a central medium for executing diverse workflows within your company. An intelligent agent, equipped with the right set of tools, can indeed unlock significant productivity gains across a multitude of use cases you can imagine.\n",
    "\n",
    "Thank you for joining us on this learning adventure! We hope this training has provided you with a solid foundation for exploring and implementing the transformative potential of AI agents in your own work. Happy experimenting!\n",
    "\n",
    "![blue scatter](./assets/vizart/scatter-blue-dark.png)"
   ]
  }
 ],
 "metadata": {
  "kernelspec": {
   "display_name": "tableau_langchain_v2",
   "language": "python",
   "name": "python3"
  },
  "language_info": {
   "codemirror_mode": {
    "name": "ipython",
    "version": 3
   },
   "file_extension": ".py",
   "mimetype": "text/x-python",
   "name": "python",
   "nbconvert_exporter": "python",
   "pygments_lexer": "ipython3",
   "version": "3.13.2"
  }
 },
 "nbformat": 4,
 "nbformat_minor": 5
}
