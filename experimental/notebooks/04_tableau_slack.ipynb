{
 "cells": [
  {
   "cell_type": "markdown",
   "id": "7b2576fc",
   "metadata": {},
   "source": [
    "# Tableau & Slack\n",
    "\n",
    "//TODO Fetch Tableau data and output in Slack\n",
    "// https://python.langchain.com/docs/integrations/tools/slack/"
   ]
  }
 ],
 "metadata": {
  "language_info": {
   "name": "python"
  }
 },
 "nbformat": 4,
 "nbformat_minor": 5
}
