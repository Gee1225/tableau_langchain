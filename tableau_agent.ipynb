{
 "cells": [
  {
   "cell_type": "markdown",
   "metadata": {},
   "source": [
    "# Tableau Agent\n",
    "\n",
    "This is a sample implementation of a Langgraph Agent for Tableau."
   ]
  },
  {
   "cell_type": "code",
   "execution_count": null,
   "metadata": {},
   "outputs": [],
   "source": [
    "import os\n",
    "\n",
    "from dotenv import load_dotenv\n",
    "\n",
    "from agents.utils.tableau import authenticate_tableau_user"
   ]
  },
  {
   "cell_type": "code",
   "execution_count": null,
   "metadata": {},
   "outputs": [],
   "source": [
    "# environment variables available to current process and sub processes\n",
    "load_dotenv()\n",
    "\n",
    "domain = os.environ['TABLEAU_DOMAIN']\n",
    "site = os.environ['TABLEAU_SITE']\n",
    "datasource_luid = os.environ['DATASOURCE_LUID']\n",
    "\n",
    "# define required authorizations to Tableau resources to support Agent operations\n",
    "access_scopes = [\n",
    "    \"tableau:content:read\", # for quering Tableau Metadata API\n",
    "    \"tableau:viz_data_service:read\" # for querying VizQL Data Service\n",
    "]\n",
    "\n",
    "# get a valid Tableau session or API key\n",
    "tableau_session = await authenticate_tableau_user(\n",
    "    jwt_client_id=os.environ['TABLEAU_JWT_CLIENT_ID'],\n",
    "    jwt_secret_id=os.environ['TABLEAU_JWT_SECRET_ID'],\n",
    "    jwt_secret=os.environ['TABLEAU_JWT_SECRET'],\n",
    "    tableau_api=os.environ['TABLEAU_API'],\n",
    "    tableau_user=os.environ['TABLEAU_USER'],\n",
    "    tableau_domain=domain,\n",
    "    tableau_site=site,\n",
    "    scopes=access_scopes\n",
    ")"
   ]
  }
 ],
 "metadata": {
  "kernelspec": {
   "display_name": "tableau_langchain",
   "language": "python",
   "name": "python3"
  },
  "language_info": {
   "name": "python",
   "version": "3.12.2"
  }
 },
 "nbformat": 4,
 "nbformat_minor": 2
}
