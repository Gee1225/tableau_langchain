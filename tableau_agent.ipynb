{
 "cells": [
  {
   "cell_type": "markdown",
   "metadata": {},
   "source": [
    "# Tableau Agent\n",
    "\n",
    "This is a sample implementation of a Langgraph Agent for Tableau."
   ]
  },
  {
   "cell_type": "code",
   "execution_count": null,
   "metadata": {},
   "outputs": [],
   "source": [
    "import os\n",
    "\n",
    "from dotenv import load_dotenv\n",
    "\n",
    "from langchain_openai import ChatOpenAI\n",
    "from langgraph.prebuilt import create_react_agent\n",
    "\n",
    "from agents.cra.state import CustomState\n",
    "from agents.cra.tooling import tools\n",
    "from agents.cra.memory import initialize_memory\n",
    "from agents.utils.agent_utils import  _visualize_graph\n",
    "from agents.utils.tableau import authenticate_tableau_user"
   ]
  },
  {
   "cell_type": "code",
   "execution_count": null,
   "metadata": {},
   "outputs": [],
   "source": [
    "# environment variables available to current process and sub processes\n",
    "load_dotenv()\n",
    "\n",
    "domain = os.environ['TABLEAU_DOMAIN']\n",
    "site = os.environ['TABLEAU_SITE']\n",
    "datasource_luid = os.environ['DATASOURCE_LUID']\n",
    "\n",
    "# define required authorizations to Tableau resources to support Agent operations\n",
    "access_scopes = [\n",
    "    \"tableau:content:read\", # for quering Tableau Metadata API\n",
    "    \"tableau:viz_data_service:read\" # for querying VizQL Data Service\n",
    "]\n",
    "\n",
    "# get a valid Tableau session or API key\n",
    "tableau_session = await authenticate_tableau_user(\n",
    "    jwt_client_id=os.environ['TABLEAU_JWT_CLIENT_ID'],\n",
    "    jwt_secret_id=os.environ['TABLEAU_JWT_SECRET_ID'],\n",
    "    jwt_secret=os.environ['TABLEAU_JWT_SECRET'],\n",
    "    tableau_api=os.environ['TABLEAU_API'],\n",
    "    tableau_user=os.environ['TABLEAU_USER'],\n",
    "    tableau_domain=domain,\n",
    "    tableau_site=site,\n",
    "    scopes=access_scopes\n",
    ")\n",
    "\n",
    "# inputs for Agent initialization, only credentials are mandatory\n",
    "sample_inputs = {\n",
    "    'tableau_credentials': {\n",
    "        \"session\": tableau_session,\n",
    "        \"url\": domain,\n",
    "        \"site\": site,\n",
    "    },\n",
    "    'datasource': {\n",
    "        \"luid\": datasource_luid,\n",
    "        \"name\": None,\n",
    "        \"description\": None\n",
    "    }\n",
    "}"
   ]
  },
  {
   "cell_type": "code",
   "execution_count": null,
   "metadata": {},
   "outputs": [],
   "source": [
    "# configure running model for the agent\n",
    "llm = ChatOpenAI(\n",
    "    model=os.environ[\"AGENT_MODEL\"],\n",
    "    api_key=os.environ[\"OPENAI_API_KEY\"],\n",
    "    temperature=0,\n",
    "    verbose=True,\n",
    "    max_tokens=None,\n",
    "    timeout=None,\n",
    "    max_retries=2\n",
    ")\n",
    "\n",
    "# initialize memory\n",
    "memory = initialize_memory(memory_inputs=sample_inputs)\n",
    "\n",
    "# set agent debugging state\n",
    "if os.getenv('DEBUG') == '1':\n",
    "    debugging = True\n",
    "else:\n",
    "    debugging = False\n",
    "\n",
    "# define the agent graph\n",
    "cra_agent = create_react_agent(\n",
    "    model=llm,\n",
    "    state_schema=CustomState,\n",
    "    tools=tools,\n",
    "    store=memory,\n",
    "    debug=debugging\n",
    ")\n",
    "\n",
    "# outputs a mermaid diagram of the graph in png format\n",
    "_visualize_graph(cra_agent)"
   ]
  },
  {
   "cell_type": "code",
   "execution_count": null,
   "metadata": {},
   "outputs": [],
   "source": [
    "# question or task sent to the agent\n",
    "message_string = 'show me average discount, total sales and profits by region sorted by profit'\n",
    "\n",
    "# graph inputs must follow dict[str, Any] | Any\n",
    "input_stream = {\n",
    "    \"messages\": [(\"user\", message_string)],\n",
    "}\n",
    "\n",
    "# send the stream input to the Agent (graph)\n",
    "agent_response = cra_agent.invoke(input_stream)\n",
    "\n",
    "print(agent_response)"
   ]
  }
 ],
 "metadata": {
  "kernelspec": {
   "display_name": "tableau_langchain",
   "language": "python",
   "name": "python3"
  },
  "language_info": {
   "name": "python",
   "version": "3.12.2"
  }
 },
 "nbformat": 4,
 "nbformat_minor": 2
}
